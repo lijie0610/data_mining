{
 "cells": [
  {
   "cell_type": "markdown",
   "metadata": {},
   "source": [
    "# 作业一 数据探索性分析与数据预处理"
   ]
  },
  {
   "cell_type": "markdown",
   "metadata": {
    "papermill": {
     "duration": 0.026838,
     "end_time": "2021-03-28T11:35:09.298650",
     "exception": false,
     "start_time": "2021-03-28T11:35:09.271812",
     "status": "completed"
    },
    "tags": []
   },
   "source": [
    "# 数据集：Oakland Crime Statistics 2011 to 2016\n",
    "\n",
    "## 代码地址：https://github.com/lijie0610/data_mining/tree/data_analysis"
   ]
  },
  {
   "cell_type": "markdown",
   "metadata": {},
   "source": [
    "# 0 数据准备及查看"
   ]
  },
  {
   "cell_type": "code",
   "execution_count": 1,
   "metadata": {
    "_cell_guid": "af176ef0-bf50-4206-bf4b-cbf5b6bfe884",
    "_uuid": "9271c2b3-6290-4c70-9af7-2c366a9c530d",
    "execution": {
     "iopub.execute_input": "2021-03-28T11:35:09.357626Z",
     "iopub.status.busy": "2021-03-28T11:35:09.356801Z",
     "iopub.status.idle": "2021-03-28T11:35:10.252483Z",
     "shell.execute_reply": "2021-03-28T11:35:10.251533Z"
    },
    "papermill": {
     "duration": 0.928266,
     "end_time": "2021-03-28T11:35:10.252738",
     "exception": false,
     "start_time": "2021-03-28T11:35:09.324472",
     "status": "completed"
    },
    "tags": []
   },
   "outputs": [],
   "source": [
    "#导入包\n",
    "import matplotlib.pyplot as plt\n",
    "import pandas as pd\n",
    "import numpy as np\n",
    "from scipy import stats\n",
    "from collections import Counter\n",
    "from math import isnan\n",
    "import math\n"
   ]
  },
  {
   "cell_type": "markdown",
   "metadata": {
    "papermill": {
     "duration": 0.024937,
     "end_time": "2021-03-28T11:35:10.304700",
     "exception": false,
     "start_time": "2021-03-28T11:35:10.279763",
     "status": "completed"
    },
    "tags": []
   },
   "source": [
    "## 查看数据集"
   ]
  },
  {
   "cell_type": "markdown",
   "metadata": {},
   "source": [
    "以records-for-2011.csv为例"
   ]
  },
  {
   "cell_type": "code",
   "execution_count": 2,
   "metadata": {
    "execution": {
     "iopub.execute_input": "2021-03-28T11:35:10.436454Z",
     "iopub.status.busy": "2021-03-28T11:35:10.435780Z",
     "iopub.status.idle": "2021-03-28T11:35:12.021709Z",
     "shell.execute_reply": "2021-03-28T11:35:12.022203Z"
    },
    "papermill": {
     "duration": 1.617894,
     "end_time": "2021-03-28T11:35:12.022398",
     "exception": false,
     "start_time": "2021-03-28T11:35:10.404504",
     "status": "completed"
    },
    "tags": []
   },
   "outputs": [
    {
     "data": {
      "text/html": [
       "<div>\n",
       "<style scoped>\n",
       "    .dataframe tbody tr th:only-of-type {\n",
       "        vertical-align: middle;\n",
       "    }\n",
       "\n",
       "    .dataframe tbody tr th {\n",
       "        vertical-align: top;\n",
       "    }\n",
       "\n",
       "    .dataframe thead th {\n",
       "        text-align: right;\n",
       "    }\n",
       "</style>\n",
       "<table border=\"1\" class=\"dataframe\">\n",
       "  <thead>\n",
       "    <tr style=\"text-align: right;\">\n",
       "      <th></th>\n",
       "      <th>Create Time</th>\n",
       "      <th>Location</th>\n",
       "      <th>Area Id</th>\n",
       "      <th>Beat</th>\n",
       "      <th>Priority</th>\n",
       "      <th>Incident Type Id</th>\n",
       "      <th>Incident Type Description</th>\n",
       "      <th>Event Number</th>\n",
       "      <th>Closed Time</th>\n",
       "    </tr>\n",
       "    <tr>\n",
       "      <th>Agency</th>\n",
       "      <th></th>\n",
       "      <th></th>\n",
       "      <th></th>\n",
       "      <th></th>\n",
       "      <th></th>\n",
       "      <th></th>\n",
       "      <th></th>\n",
       "      <th></th>\n",
       "      <th></th>\n",
       "    </tr>\n",
       "  </thead>\n",
       "  <tbody>\n",
       "    <tr>\n",
       "      <th>OP</th>\n",
       "      <td>2011-01-01T00:00:00.000</td>\n",
       "      <td>ST&amp;SAN PABLO AV</td>\n",
       "      <td>1.0</td>\n",
       "      <td>06X</td>\n",
       "      <td>1.0</td>\n",
       "      <td>PDOA</td>\n",
       "      <td>POSSIBLE DEAD PERSON</td>\n",
       "      <td>LOP110101000001</td>\n",
       "      <td>2011-01-01T00:28:17.000</td>\n",
       "    </tr>\n",
       "    <tr>\n",
       "      <th>OP</th>\n",
       "      <td>2011-01-01T00:01:11.000</td>\n",
       "      <td>ST&amp;HANNAH ST</td>\n",
       "      <td>1.0</td>\n",
       "      <td>07X</td>\n",
       "      <td>1.0</td>\n",
       "      <td>415GS</td>\n",
       "      <td>415 GUNSHOTS</td>\n",
       "      <td>LOP110101000002</td>\n",
       "      <td>2011-01-01T01:12:56.000</td>\n",
       "    </tr>\n",
       "    <tr>\n",
       "      <th>OP</th>\n",
       "      <td>2011-01-01T00:01:25.000</td>\n",
       "      <td>ST&amp;MARKET ST</td>\n",
       "      <td>1.0</td>\n",
       "      <td>10Y</td>\n",
       "      <td>2.0</td>\n",
       "      <td>415GS</td>\n",
       "      <td>415 GUNSHOTS</td>\n",
       "      <td>LOP110101000003</td>\n",
       "      <td>2011-01-01T00:07:20.000</td>\n",
       "    </tr>\n",
       "    <tr>\n",
       "      <th>OP</th>\n",
       "      <td>2011-01-01T00:01:35.000</td>\n",
       "      <td>PRENTISS ST</td>\n",
       "      <td>2.0</td>\n",
       "      <td>21Y</td>\n",
       "      <td>2.0</td>\n",
       "      <td>415GS</td>\n",
       "      <td>415 GUNSHOTS</td>\n",
       "      <td>LOP110101000005</td>\n",
       "      <td>2011-01-01T00:02:28.000</td>\n",
       "    </tr>\n",
       "    <tr>\n",
       "      <th>OP</th>\n",
       "      <td>2011-01-01T00:02:10.000</td>\n",
       "      <td>AV&amp;FOOTHILL BLVD</td>\n",
       "      <td>2.0</td>\n",
       "      <td>20X</td>\n",
       "      <td>1.0</td>\n",
       "      <td>415GS</td>\n",
       "      <td>415 GUNSHOTS</td>\n",
       "      <td>LOP110101000004</td>\n",
       "      <td>2011-01-01T00:50:04.000</td>\n",
       "    </tr>\n",
       "  </tbody>\n",
       "</table>\n",
       "</div>"
      ],
      "text/plain": [
       "                    Create Time            Location  Area Id Beat  Priority  \\\n",
       "Agency                                                                        \n",
       "OP      2011-01-01T00:00:00.000     ST&SAN PABLO AV      1.0  06X       1.0   \n",
       "OP      2011-01-01T00:01:11.000       ST&HANNAH ST       1.0  07X       1.0   \n",
       "OP      2011-01-01T00:01:25.000       ST&MARKET ST       1.0  10Y       2.0   \n",
       "OP      2011-01-01T00:01:35.000        PRENTISS ST       2.0  21Y       2.0   \n",
       "OP      2011-01-01T00:02:10.000   AV&FOOTHILL BLVD       2.0  20X       1.0   \n",
       "\n",
       "       Incident Type Id Incident Type Description     Event Number  \\\n",
       "Agency                                                               \n",
       "OP                 PDOA      POSSIBLE DEAD PERSON  LOP110101000001   \n",
       "OP                415GS              415 GUNSHOTS  LOP110101000002   \n",
       "OP                415GS              415 GUNSHOTS  LOP110101000003   \n",
       "OP                415GS              415 GUNSHOTS  LOP110101000005   \n",
       "OP                415GS              415 GUNSHOTS  LOP110101000004   \n",
       "\n",
       "                    Closed Time  \n",
       "Agency                           \n",
       "OP      2011-01-01T00:28:17.000  \n",
       "OP      2011-01-01T01:12:56.000  \n",
       "OP      2011-01-01T00:07:20.000  \n",
       "OP      2011-01-01T00:02:28.000  \n",
       "OP      2011-01-01T00:50:04.000  "
      ]
     },
     "execution_count": 2,
     "metadata": {},
     "output_type": "execute_result"
    }
   ],
   "source": [
    "#读取数据集\n",
    "data = pd.read_csv('D:/Users/Desktop/data/Oakland Crime Statistics 2011 to 2016/records-for-2011.csv',index_col=0)\n",
    "data.head()#数据展示"
   ]
  },
  {
   "cell_type": "code",
   "execution_count": 3,
   "metadata": {
    "execution": {
     "iopub.execute_input": "2021-03-28T11:35:12.152182Z",
     "iopub.status.busy": "2021-03-28T11:35:12.151191Z",
     "iopub.status.idle": "2021-03-28T11:35:12.155502Z",
     "shell.execute_reply": "2021-03-28T11:35:12.155993Z"
    },
    "papermill": {
     "duration": 0.038193,
     "end_time": "2021-03-28T11:35:12.156176",
     "exception": false,
     "start_time": "2021-03-28T11:35:12.117983",
     "status": "completed"
    },
    "tags": []
   },
   "outputs": [
    {
     "data": {
      "text/plain": [
       "(180016, 9)"
      ]
     },
     "execution_count": 3,
     "metadata": {},
     "output_type": "execute_result"
    }
   ],
   "source": [
    "data.shape #数据集的大小"
   ]
  },
  {
   "cell_type": "markdown",
   "metadata": {},
   "source": [
    "records-for-2011.csv包含9列和18万行犯罪数据。"
   ]
  },
  {
   "cell_type": "markdown",
   "metadata": {
    "papermill": {
     "duration": 0.027347,
     "end_time": "2021-03-28T11:35:12.267303",
     "exception": false,
     "start_time": "2021-03-28T11:35:12.239956",
     "status": "completed"
    },
    "tags": []
   },
   "source": [
    "# 1 数据可视化和摘要\n",
    "\n"
   ]
  },
  {
   "cell_type": "markdown",
   "metadata": {
    "papermill": {
     "duration": 0.027477,
     "end_time": "2021-03-28T11:35:12.322540",
     "exception": false,
     "start_time": "2021-03-28T11:35:12.295063",
     "status": "completed"
    },
    "tags": []
   },
   "source": [
    "## 1.1 数据摘要\n",
    "### 标称属性，给出每个可能聚会的频数"
   ]
  },
  {
   "cell_type": "markdown",
   "metadata": {},
   "source": [
    "标称属性有'Create Time','Location','Beat','Incident Type Id','Incident Type Description','Event Number','Closed Time'<br>\n",
    "统计每个属性的频数"
   ]
  },
  {
   "cell_type": "code",
   "execution_count": 4,
   "metadata": {
    "execution": {
     "iopub.execute_input": "2021-03-28T11:35:12.422218Z",
     "iopub.status.busy": "2021-03-28T11:35:12.421182Z",
     "iopub.status.idle": "2021-03-28T11:35:12.429291Z",
     "shell.execute_reply": "2021-03-28T11:35:12.429934Z"
    },
    "papermill": {
     "duration": 0.079604,
     "end_time": "2021-03-28T11:35:12.430110",
     "exception": false,
     "start_time": "2021-03-28T11:35:12.350506",
     "status": "completed"
    },
    "tags": []
   },
   "outputs": [
    {
     "data": {
      "text/plain": [
       "2011-06-02T00:00:00.000    4\n",
       "2011-09-21T14:05:59.000    3\n",
       "2011-03-27T00:22:41.000    3\n",
       "2011-05-22T15:48:40.000    2\n",
       "2011-09-01T11:04:43.000    2\n",
       "                          ..\n",
       "2011-01-28T12:39:28.000    1\n",
       "2011-07-19T11:18:43.000    1\n",
       "2011-06-28T08:53:55.000    1\n",
       "2011-03-24T17:18:01.000    1\n",
       "2011-05-26T22:33:55.000    1\n",
       "Name: Create Time, Length: 179451, dtype: int64"
      ]
     },
     "execution_count": 4,
     "metadata": {},
     "output_type": "execute_result"
    }
   ],
   "source": [
    "pd.value_counts(data['Create Time'])#Create Time"
   ]
  },
  {
   "cell_type": "code",
   "execution_count": 5,
   "metadata": {
    "execution": {
     "iopub.execute_input": "2021-03-28T11:35:12.541492Z",
     "iopub.status.busy": "2021-03-28T11:35:12.527456Z",
     "iopub.status.idle": "2021-03-28T11:35:12.560403Z",
     "shell.execute_reply": "2021-03-28T11:35:12.559756Z"
    },
    "papermill": {
     "duration": 0.102009,
     "end_time": "2021-03-28T11:35:12.560547",
     "exception": false,
     "start_time": "2021-03-28T11:35:12.458538",
     "status": "completed"
    },
    "tags": []
   },
   "outputs": [
    {
     "data": {
      "text/plain": [
       " INTERNATIONAL BLVD        3866\n",
       " MACARTHUR BLVD            3129\n",
       " AV&INTERNATIONAL BLVD     3067\n",
       " BROADWAY                  2132\n",
       " FOOTHILL BLVD             1791\n",
       "                           ... \n",
       "84TH WALNUT ST                1\n",
       "EDES OLIVE ST                 1\n",
       "7TH BRUSH ST                  1\n",
       "MORAGA 42ND AV                1\n",
       "106TH COLLEGE AV              1\n",
       "Name: Location, Length: 32505, dtype: int64"
      ]
     },
     "execution_count": 5,
     "metadata": {},
     "output_type": "execute_result"
    }
   ],
   "source": [
    "pd.value_counts(data['Location'])#Location"
   ]
  },
  {
   "cell_type": "code",
   "execution_count": 6,
   "metadata": {
    "execution": {
     "iopub.execute_input": "2021-03-28T11:35:12.662555Z",
     "iopub.status.busy": "2021-03-28T11:35:12.659204Z",
     "iopub.status.idle": "2021-03-28T11:35:12.669769Z",
     "shell.execute_reply": "2021-03-28T11:35:12.669160Z"
    },
    "papermill": {
     "duration": 0.080475,
     "end_time": "2021-03-28T11:35:12.669944",
     "exception": false,
     "start_time": "2021-03-28T11:35:12.589469",
     "status": "completed"
    },
    "tags": []
   },
   "outputs": [
    {
     "data": {
      "text/plain": [
       "04X     7410\n",
       "08X     6885\n",
       "26Y     5478\n",
       "30Y     5295\n",
       "06X     5119\n",
       "23X     5051\n",
       "30X     4956\n",
       "19X     4955\n",
       "34X     4673\n",
       "29X     4483\n",
       "20X     4287\n",
       "27Y     4159\n",
       "07X     4134\n",
       "31Y     4082\n",
       "25X     4022\n",
       "35X     3880\n",
       "33X     3849\n",
       "03X     3819\n",
       "32X     3711\n",
       "27X     3703\n",
       "09X     3630\n",
       "21Y     3435\n",
       "32Y     3125\n",
       "22X     3061\n",
       "26X     2978\n",
       "02Y     2970\n",
       "10X     2967\n",
       "14X     2733\n",
       "03Y     2726\n",
       "22Y     2664\n",
       "12Y     2651\n",
       "05X     2633\n",
       "02X     2614\n",
       "31X     2603\n",
       "21X     2593\n",
       "17Y     2582\n",
       "24Y     2575\n",
       "13Z     2546\n",
       "15X     2509\n",
       "24X     2459\n",
       "12X     2422\n",
       "10Y     2383\n",
       "01X     2210\n",
       "28X     2191\n",
       "17X     2133\n",
       "11X     2087\n",
       "13Y     2017\n",
       "35Y     1956\n",
       "31Z     1870\n",
       "18Y     1778\n",
       "16Y     1561\n",
       "14Y     1492\n",
       "25Y     1482\n",
       "13X     1122\n",
       "18X     1063\n",
       "16X      994\n",
       "05Y      710\n",
       "PDT2      20\n",
       "Name: Beat, dtype: int64"
      ]
     },
     "execution_count": 6,
     "metadata": {},
     "output_type": "execute_result"
    }
   ],
   "source": [
    "pd.value_counts(data['Beat'])#Beat"
   ]
  },
  {
   "cell_type": "code",
   "execution_count": 7,
   "metadata": {
    "execution": {
     "iopub.execute_input": "2021-03-28T11:35:12.767914Z",
     "iopub.status.busy": "2021-03-28T11:35:12.767174Z",
     "iopub.status.idle": "2021-03-28T11:35:12.775560Z",
     "shell.execute_reply": "2021-03-28T11:35:12.775028Z"
    },
    "papermill": {
     "duration": 0.075958,
     "end_time": "2021-03-28T11:35:12.775711",
     "exception": false,
     "start_time": "2021-03-28T11:35:12.699753",
     "status": "completed"
    },
    "tags": []
   },
   "outputs": [
    {
     "data": {
      "text/plain": [
       "933R      17348\n",
       "911H      12817\n",
       "SECCK     11393\n",
       "415       10752\n",
       "10851      7180\n",
       "          ...  \n",
       "LKOUT         1\n",
       "YELALT        1\n",
       "593           1\n",
       "TARA          1\n",
       "MTHLAB        1\n",
       "Name: Incident Type Id, Length: 263, dtype: int64"
      ]
     },
     "execution_count": 7,
     "metadata": {},
     "output_type": "execute_result"
    }
   ],
   "source": [
    "pd.value_counts(data['Incident Type Id'])#Incident Type Id"
   ]
  },
  {
   "cell_type": "code",
   "execution_count": 8,
   "metadata": {
    "execution": {
     "iopub.execute_input": "2021-03-28T11:35:12.865767Z",
     "iopub.status.busy": "2021-03-28T11:35:12.862855Z",
     "iopub.status.idle": "2021-03-28T11:35:12.870262Z",
     "shell.execute_reply": "2021-03-28T11:35:12.870775Z"
    },
    "papermill": {
     "duration": 0.065535,
     "end_time": "2021-03-28T11:35:12.870967",
     "exception": false,
     "start_time": "2021-03-28T11:35:12.805432",
     "status": "completed"
    },
    "tags": []
   },
   "outputs": [
    {
     "data": {
      "text/plain": [
       "ALARM-RINGER            17348\n",
       "911 HANG-UP             12817\n",
       "SECURITY CHECK          11393\n",
       "STOLEN VEHICLE           7180\n",
       "415 UNKNOWN              6624\n",
       "                        ...  \n",
       "CONSPIRACY COURT ORD        1\n",
       "PACIFIC GAS AND ELEC        1\n",
       "TARASOFF                    1\n",
       "FLOOD                       1\n",
       "PLAYING BALL IN STRE        1\n",
       "Name: Incident Type Description, Length: 265, dtype: int64"
      ]
     },
     "execution_count": 8,
     "metadata": {},
     "output_type": "execute_result"
    }
   ],
   "source": [
    "pd.value_counts(data['Incident Type Description'])#Incident Type Description"
   ]
  },
  {
   "cell_type": "code",
   "execution_count": 9,
   "metadata": {
    "execution": {
     "iopub.execute_input": "2021-03-28T11:35:12.975655Z",
     "iopub.status.busy": "2021-03-28T11:35:12.972283Z",
     "iopub.status.idle": "2021-03-28T11:35:12.981729Z",
     "shell.execute_reply": "2021-03-28T11:35:12.980947Z"
    },
    "papermill": {
     "duration": 0.080821,
     "end_time": "2021-03-28T11:35:12.981877",
     "exception": false,
     "start_time": "2021-03-28T11:35:12.901056",
     "status": "completed"
    },
    "tags": []
   },
   "outputs": [
    {
     "data": {
      "text/plain": [
       "LOP110528000680    1\n",
       "LOP111202000876    1\n",
       "LOP110816000946    1\n",
       "LOP111003000597    1\n",
       "LOP110216000380    1\n",
       "                  ..\n",
       "LOP110212000596    1\n",
       "LOP110707000914    1\n",
       "LOP111204000126    1\n",
       "LOP111204000548    1\n",
       "LOP110811000831    1\n",
       "Name: Event Number, Length: 180015, dtype: int64"
      ]
     },
     "execution_count": 9,
     "metadata": {},
     "output_type": "execute_result"
    }
   ],
   "source": [
    "pd.value_counts(data['Event Number'])#Event Number"
   ]
  },
  {
   "cell_type": "code",
   "execution_count": 10,
   "metadata": {
    "execution": {
     "iopub.execute_input": "2021-03-28T11:35:13.095950Z",
     "iopub.status.busy": "2021-03-28T11:35:13.094792Z",
     "iopub.status.idle": "2021-03-28T11:35:13.106003Z",
     "shell.execute_reply": "2021-03-28T11:35:13.105487Z"
    },
    "papermill": {
     "duration": 0.092302,
     "end_time": "2021-03-28T11:35:13.106156",
     "exception": false,
     "start_time": "2021-03-28T11:35:13.013854",
     "status": "completed"
    },
    "tags": []
   },
   "outputs": [
    {
     "data": {
      "text/plain": [
       "2011-02-03T12:47:33.000    2\n",
       "2011-07-02T02:28:53.000    2\n",
       "2011-09-13T19:08:34.000    2\n",
       "2011-07-04T23:42:24.000    2\n",
       "2011-12-13T14:50:17.000    2\n",
       "                          ..\n",
       "2011-10-29T23:34:19.000    1\n",
       "2011-10-06T23:11:24.000    1\n",
       "2011-02-04T20:30:42.000    1\n",
       "2011-02-09T07:29:10.000    1\n",
       "2011-08-17T03:32:23.000    1\n",
       "Name: Closed Time, Length: 179506, dtype: int64"
      ]
     },
     "execution_count": 10,
     "metadata": {},
     "output_type": "execute_result"
    }
   ],
   "source": [
    "pd.value_counts(data['Closed Time'])#Closed Time"
   ]
  },
  {
   "cell_type": "markdown",
   "metadata": {
    "papermill": {
     "duration": 0.031323,
     "end_time": "2021-03-28T11:35:13.169608",
     "exception": false,
     "start_time": "2021-03-28T11:35:13.138285",
     "status": "completed"
    },
    "tags": []
   },
   "source": [
    "### 数值属性，给出5数概括及缺失值的个数"
   ]
  },
  {
   "cell_type": "markdown",
   "metadata": {},
   "source": [
    "数值属性包括Area Id,Priority<br>\n",
    "分别给出5数概括"
   ]
  },
  {
   "cell_type": "code",
   "execution_count": 11,
   "metadata": {
    "execution": {
     "iopub.execute_input": "2021-03-28T11:35:13.243613Z",
     "iopub.status.busy": "2021-03-28T11:35:13.242958Z",
     "iopub.status.idle": "2021-03-28T11:35:13.267680Z",
     "shell.execute_reply": "2021-03-28T11:35:13.268154Z"
    },
    "papermill": {
     "duration": 0.067434,
     "end_time": "2021-03-28T11:35:13.268337",
     "exception": false,
     "start_time": "2021-03-28T11:35:13.200903",
     "status": "completed"
    },
    "tags": []
   },
   "outputs": [
    {
     "data": {
      "text/plain": [
       "count    179112.000000\n",
       "mean          1.740648\n",
       "std           0.746468\n",
       "min           1.000000\n",
       "25%           1.000000\n",
       "50%           2.000000\n",
       "75%           2.000000\n",
       "max           3.000000\n",
       "Name: Area Id, dtype: float64"
      ]
     },
     "execution_count": 11,
     "metadata": {},
     "output_type": "execute_result"
    }
   ],
   "source": [
    "data['Area Id'].describe()#Area Id5数概括"
   ]
  },
  {
   "cell_type": "code",
   "execution_count": 12,
   "metadata": {},
   "outputs": [
    {
     "data": {
      "text/plain": [
       "count    180015.000000\n",
       "mean          1.796111\n",
       "std           0.402916\n",
       "min           0.000000\n",
       "25%           2.000000\n",
       "50%           2.000000\n",
       "75%           2.000000\n",
       "max           2.000000\n",
       "Name: Priority, dtype: float64"
      ]
     },
     "execution_count": 12,
     "metadata": {},
     "output_type": "execute_result"
    }
   ],
   "source": [
    "data['Priority'].describe()#Priority5数概括"
   ]
  },
  {
   "cell_type": "markdown",
   "metadata": {},
   "source": [
    "分别给出缺失值个数"
   ]
  },
  {
   "cell_type": "code",
   "execution_count": 13,
   "metadata": {
    "execution": {
     "iopub.execute_input": "2021-03-28T11:35:13.335884Z",
     "iopub.status.busy": "2021-03-28T11:35:13.334908Z",
     "iopub.status.idle": "2021-03-28T11:35:13.342543Z",
     "shell.execute_reply": "2021-03-28T11:35:13.341995Z"
    },
    "papermill": {
     "duration": 0.042641,
     "end_time": "2021-03-28T11:35:13.342683",
     "exception": false,
     "start_time": "2021-03-28T11:35:13.300042",
     "status": "completed"
    },
    "tags": []
   },
   "outputs": [
    {
     "data": {
      "text/plain": [
       "904"
      ]
     },
     "execution_count": 13,
     "metadata": {},
     "output_type": "execute_result"
    }
   ],
   "source": [
    "data['Area Id'].isnull().sum()#Area Id缺失值个数"
   ]
  },
  {
   "cell_type": "code",
   "execution_count": 14,
   "metadata": {
    "execution": {
     "iopub.execute_input": "2021-03-28T11:35:13.415705Z",
     "iopub.status.busy": "2021-03-28T11:35:13.414859Z",
     "iopub.status.idle": "2021-03-28T11:35:13.420005Z",
     "shell.execute_reply": "2021-03-28T11:35:13.419339Z"
    },
    "papermill": {
     "duration": 0.042879,
     "end_time": "2021-03-28T11:35:13.420151",
     "exception": false,
     "start_time": "2021-03-28T11:35:13.377272",
     "status": "completed"
    },
    "tags": []
   },
   "outputs": [
    {
     "data": {
      "text/plain": [
       "1"
      ]
     },
     "execution_count": 14,
     "metadata": {},
     "output_type": "execute_result"
    }
   ],
   "source": [
    "data['Priority'].isnull().sum()#Priority缺失值个数"
   ]
  },
  {
   "cell_type": "markdown",
   "metadata": {
    "papermill": {
     "duration": 0.035243,
     "end_time": "2021-03-28T11:35:15.712270",
     "exception": false,
     "start_time": "2021-03-28T11:35:15.677027",
     "status": "completed"
    },
    "tags": []
   },
   "source": [
    "数据摘要可以看出，地区主要分布在 INTERNATIONAL BLVD，MACARTHUR BLVD，AV&INTERNATIONAL BLVD，BROADWAY ，事件类型代码主要是933R ，911H ，SECCK，415；Priority的平均数为1.796"
   ]
  },
  {
   "cell_type": "markdown",
   "metadata": {
    "papermill": {
     "duration": 0.032473,
     "end_time": "2021-03-28T11:35:13.486520",
     "exception": false,
     "start_time": "2021-03-28T11:35:13.454047",
     "status": "completed"
    },
    "tags": []
   },
   "source": [
    "## 1.2 数据可视化\n",
    "### 使用直方图、盒图，qq图检查数据分布及离群点"
   ]
  },
  {
   "cell_type": "markdown",
   "metadata": {},
   "source": [
    "分别绘制Area Id,Priority的直方图、盒图，qq图"
   ]
  },
  {
   "cell_type": "code",
   "execution_count": 15,
   "metadata": {},
   "outputs": [
    {
     "data": {
      "text/plain": [
       "<matplotlib.axes._subplots.AxesSubplot at 0x1fccc137b80>"
      ]
     },
     "execution_count": 15,
     "metadata": {},
     "output_type": "execute_result"
    },
    {
     "data": {
      "image/png": "[encoded data removed]",
      "text/plain": [
       "<Figure size 432x288 with 1 Axes>"
      ]
     },
     "metadata": {
      "needs_background": "light"
     },
     "output_type": "display_data"
    }
   ],
   "source": [
    "#Area Id直方图\n",
    "plt.title(\"Area Id hist\")\n",
    "data['Area Id'].hist(alpha=0.5,bins=15)"
   ]
  },
  {
   "cell_type": "code",
   "execution_count": 16,
   "metadata": {},
   "outputs": [
    {
     "data": {
      "text/plain": [
       "<matplotlib.axes._subplots.AxesSubplot at 0x1fccd80d370>"
      ]
     },
     "execution_count": 16,
     "metadata": {},
     "output_type": "execute_result"
    },
    {
     "data": {
      "image/png": "[encoded data removed]",
      "text/plain": [
       "<Figure size 432x288 with 1 Axes>"
      ]
     },
     "metadata": {
      "needs_background": "light"
     },
     "output_type": "display_data"
    }
   ],
   "source": [
    "#Area Id盒图\n",
    "plt.title(\"Area Id box\")\n",
    "data['Area Id'].plot(kind='box',notch=True,grid=True)"
   ]
  },
  {
   "cell_type": "code",
   "execution_count": 17,
   "metadata": {},
   "outputs": [
    {
     "name": "stderr",
     "output_type": "stream",
     "text": [
      "D:\\anaconda3\\lib\\site-packages\\scipy\\stats\\_distn_infrastructure.py:1932: RuntimeWarning: invalid value encountered in less_equal\n",
      "  cond2 = cond0 & (x <= _a)\n"
     ]
    },
    {
     "data": {
      "text/plain": [
       "((array([-4.47333396, -4.27995935, -4.17496761, ...,  4.17496761,\n",
       "          4.27995935,  4.47333396]),\n",
       "  array([ 1.,  1.,  1., ..., nan, nan, nan])),\n",
       " (nan, nan, nan))"
      ]
     },
     "execution_count": 17,
     "metadata": {},
     "output_type": "execute_result"
    },
    {
     "data": {
      "image/png": "[encoded data removed]",
      "text/plain": [
       "<Figure size 432x288 with 1 Axes>"
      ]
     },
     "metadata": {
      "needs_background": "light"
     },
     "output_type": "display_data"
    }
   ],
   "source": [
    "#Area Id q-q图\n",
    "stats.probplot(data['Area Id'],dist=\"norm\",plot=plt)"
   ]
  },
  {
   "cell_type": "code",
   "execution_count": 18,
   "metadata": {},
   "outputs": [
    {
     "data": {
      "text/plain": [
       "<matplotlib.axes._subplots.AxesSubplot at 0x1fcceddafd0>"
      ]
     },
     "execution_count": 18,
     "metadata": {},
     "output_type": "execute_result"
    },
    {
     "data": {
      "image/png": "[encoded data removed]",
      "text/plain": [
       "<Figure size 432x288 with 1 Axes>"
      ]
     },
     "metadata": {
      "needs_background": "light"
     },
     "output_type": "display_data"
    }
   ],
   "source": [
    "#Priority直方图\n",
    "plt.title(\"Priority hist\")\n",
    "data['Priority'].hist(alpha=0.5,bins=15)"
   ]
  },
  {
   "cell_type": "code",
   "execution_count": 19,
   "metadata": {},
   "outputs": [
    {
     "data": {
      "text/plain": [
       "<matplotlib.axes._subplots.AxesSubplot at 0x1fcce9d6130>"
      ]
     },
     "execution_count": 19,
     "metadata": {},
     "output_type": "execute_result"
    },
    {
     "data": {
      "image/png": "[encoded data removed]",
      "text/plain": [
       "<Figure size 432x288 with 1 Axes>"
      ]
     },
     "metadata": {
      "needs_background": "light"
     },
     "output_type": "display_data"
    }
   ],
   "source": [
    "#Priority盒图\n",
    "plt.title(\"Priority box\")\n",
    "data['Priority'].plot(kind='box',notch=True,grid=True)"
   ]
  },
  {
   "cell_type": "code",
   "execution_count": 20,
   "metadata": {
    "scrolled": true
   },
   "outputs": [
    {
     "name": "stderr",
     "output_type": "stream",
     "text": [
      "D:\\anaconda3\\lib\\site-packages\\scipy\\stats\\_distn_infrastructure.py:1932: RuntimeWarning: invalid value encountered in less_equal\n",
      "  cond2 = cond0 & (x <= _a)\n"
     ]
    },
    {
     "data": {
      "text/plain": [
       "((array([-4.47333396, -4.27995935, -4.17496761, ...,  4.17496761,\n",
       "          4.27995935,  4.47333396]),\n",
       "  array([ 0.,  0.,  1., ...,  2.,  2., nan])),\n",
       " (nan, nan, nan))"
      ]
     },
     "execution_count": 20,
     "metadata": {},
     "output_type": "execute_result"
    },
    {
     "data": {
      "image/png": "[encoded data removed]",
      "text/plain": [
       "<Figure size 432x288 with 1 Axes>"
      ]
     },
     "metadata": {
      "needs_background": "light"
     },
     "output_type": "display_data"
    }
   ],
   "source": [
    "#Priorityqq图\n",
    "stats.probplot(data['Priority'],dist=\"norm\",plot=plt)"
   ]
  },
  {
   "cell_type": "markdown",
   "metadata": {},
   "source": [
    "两个数据分布均比较集中"
   ]
  },
  {
   "cell_type": "markdown",
   "metadata": {
    "papermill": {
     "duration": 0.03488,
     "end_time": "2021-03-28T11:35:15.782661",
     "exception": false,
     "start_time": "2021-03-28T11:35:15.747781",
     "status": "completed"
    },
    "tags": []
   },
   "source": [
    "# 2 数据缺失处理"
   ]
  },
  {
   "cell_type": "markdown",
   "metadata": {
    "papermill": {
     "duration": 0.035005,
     "end_time": "2021-03-28T11:35:15.933658",
     "exception": false,
     "start_time": "2021-03-28T11:35:15.898653",
     "status": "completed"
    },
    "tags": []
   },
   "source": [
    "这里对Area Id数据进行缺失值处理"
   ]
  },
  {
   "cell_type": "markdown",
   "metadata": {
    "papermill": {
     "duration": 0.036138,
     "end_time": "2021-03-28T11:35:16.004888",
     "exception": false,
     "start_time": "2021-03-28T11:35:15.968750",
     "status": "completed"
    },
    "tags": []
   },
   "source": [
    "## 2.1 缺失值剔除"
   ]
  },
  {
   "cell_type": "markdown",
   "metadata": {},
   "source": [
    "直接把缺失值删除"
   ]
  },
  {
   "cell_type": "code",
   "execution_count": 21,
   "metadata": {
    "execution": {
     "iopub.execute_input": "2021-03-28T11:35:16.221594Z",
     "iopub.status.busy": "2021-03-28T11:35:16.102020Z",
     "iopub.status.idle": "2021-03-28T11:35:16.243423Z",
     "shell.execute_reply": "2021-03-28T11:35:16.242838Z"
    },
    "papermill": {
     "duration": 0.201964,
     "end_time": "2021-03-28T11:35:16.243573",
     "exception": false,
     "start_time": "2021-03-28T11:35:16.041609",
     "status": "completed"
    },
    "tags": []
   },
   "outputs": [],
   "source": [
    "new_AreaId_data1 = data['Area Id'].copy(deep=True)\n",
    "new_AreaId_data1= new_AreaId_data1.dropna()"
   ]
  },
  {
   "cell_type": "code",
   "execution_count": 22,
   "metadata": {},
   "outputs": [
    {
     "data": {
      "text/plain": [
       "0"
      ]
     },
     "execution_count": 22,
     "metadata": {},
     "output_type": "execute_result"
    }
   ],
   "source": [
    "new_AreaId_data1.isnull().sum()"
   ]
  },
  {
   "cell_type": "markdown",
   "metadata": {},
   "source": [
    "### 可视化地对比新旧数据集"
   ]
  },
  {
   "cell_type": "code",
   "execution_count": 23,
   "metadata": {},
   "outputs": [],
   "source": [
    "def drawhist(new_data):\n",
    "    #直方图\n",
    "    plt.figure(figsize = (10,3))\n",
    "\n",
    "    plt.subplot(1,2,1)\n",
    "    plt.title(\"Area Id hist\")\n",
    "    data['Area Id'].hist(alpha=0.5,bins=15)\n",
    "\n",
    "    plt.subplot(1,2,2)\n",
    "    plt.title(\"new Area Id hist\")\n",
    "    new_data.hist(alpha=0.5,bins=15) "
   ]
  },
  {
   "cell_type": "code",
   "execution_count": 24,
   "metadata": {},
   "outputs": [],
   "source": [
    "def drawbox(new_data):\n",
    "    #盒图\n",
    "    plt.figure(figsize = (10,3))\n",
    "\n",
    "    plt.subplot(1,2,1)\n",
    "    plt.title(\"Area Id box\")\n",
    "    data['Area Id'].plot(kind='box',notch=True,grid=True)\n",
    "\n",
    "    plt.subplot(1,2,2)\n",
    "    plt.title(\"new Area Id box\")\n",
    "    new_data.plot(kind='box',notch=True,grid=True)"
   ]
  },
  {
   "cell_type": "code",
   "execution_count": 25,
   "metadata": {},
   "outputs": [],
   "source": [
    "def drawqq(new_data):\n",
    "    #q-q图\n",
    "    plt.figure(figsize = (10,3))\n",
    "\n",
    "    plt.subplot(1,2,1)\n",
    "    stats.probplot(data['Area Id'],dist=\"norm\",plot=plt)\n",
    "\n",
    "    plt.subplot(1,2,2)\n",
    "    stats.probplot(new_data,dist=\"norm\",plot=plt)"
   ]
  },
  {
   "cell_type": "code",
   "execution_count": 26,
   "metadata": {},
   "outputs": [
    {
     "data": {
      "image/png": "[encoded data removed]",
      "text/plain": [
       "<Figure size 720x216 with 2 Axes>"
      ]
     },
     "metadata": {
      "needs_background": "light"
     },
     "output_type": "display_data"
    }
   ],
   "source": [
    "drawhist(new_AreaId_data1)"
   ]
  },
  {
   "cell_type": "code",
   "execution_count": 27,
   "metadata": {},
   "outputs": [
    {
     "data": {
      "image/png": "[encoded data removed]",
      "text/plain": [
       "<Figure size 720x216 with 2 Axes>"
      ]
     },
     "metadata": {
      "needs_background": "light"
     },
     "output_type": "display_data"
    }
   ],
   "source": [
    "drawbox(new_AreaId_data1)"
   ]
  },
  {
   "cell_type": "code",
   "execution_count": 28,
   "metadata": {},
   "outputs": [
    {
     "name": "stderr",
     "output_type": "stream",
     "text": [
      "D:\\anaconda3\\lib\\site-packages\\scipy\\stats\\_distn_infrastructure.py:1932: RuntimeWarning: invalid value encountered in less_equal\n",
      "  cond2 = cond0 & (x <= _a)\n"
     ]
    },
    {
     "data": {
      "image/png": "[encoded data removed]",
      "text/plain": [
       "<Figure size 720x216 with 2 Axes>"
      ]
     },
     "metadata": {
      "needs_background": "light"
     },
     "output_type": "display_data"
    }
   ],
   "source": [
    "drawqq(new_AreaId_data1)"
   ]
  },
  {
   "cell_type": "code",
   "execution_count": 29,
   "metadata": {
    "execution": {
     "iopub.execute_input": "2021-03-28T11:35:17.620771Z",
     "iopub.status.busy": "2021-03-28T11:35:17.620006Z",
     "iopub.status.idle": "2021-03-28T11:35:17.637190Z",
     "shell.execute_reply": "2021-03-28T11:35:17.637671Z"
    },
    "papermill": {
     "duration": 0.058417,
     "end_time": "2021-03-28T11:35:17.637858",
     "exception": false,
     "start_time": "2021-03-28T11:35:17.579441",
     "status": "completed"
    },
    "tags": []
   },
   "outputs": [
    {
     "data": {
      "text/plain": [
       "count    179112.000000\n",
       "mean          1.740648\n",
       "std           0.746468\n",
       "min           1.000000\n",
       "25%           1.000000\n",
       "50%           2.000000\n",
       "75%           2.000000\n",
       "max           3.000000\n",
       "Name: Area Id, dtype: float64"
      ]
     },
     "execution_count": 29,
     "metadata": {},
     "output_type": "execute_result"
    }
   ],
   "source": [
    "new_AreaId_data1.describe()  #数据统计"
   ]
  },
  {
   "cell_type": "markdown",
   "metadata": {
    "papermill": {
     "duration": 0.038351,
     "end_time": "2021-03-28T11:35:17.714545",
     "exception": false,
     "start_time": "2021-03-28T11:35:17.676194",
     "status": "completed"
    },
    "tags": []
   },
   "source": [
    "## 2.2 用最高频率值来填补缺失值"
   ]
  },
  {
   "cell_type": "markdown",
   "metadata": {},
   "source": [
    "使用最高频率值，即众数来填补缺失值。"
   ]
  },
  {
   "cell_type": "code",
   "execution_count": 30,
   "metadata": {
    "execution": {
     "iopub.execute_input": "2021-03-28T11:35:17.797080Z",
     "iopub.status.busy": "2021-03-28T11:35:17.796401Z",
     "iopub.status.idle": "2021-03-28T11:35:21.439383Z",
     "shell.execute_reply": "2021-03-28T11:35:21.438803Z"
    },
    "papermill": {
     "duration": 3.686529,
     "end_time": "2021-03-28T11:35:21.439523",
     "exception": false,
     "start_time": "2021-03-28T11:35:17.752994",
     "status": "completed"
    },
    "tags": []
   },
   "outputs": [],
   "source": [
    "new_AreaId_data2 = data['Area Id'].copy(deep=True)\n",
    "AreaId_mode = Counter(new_AreaId_data2).most_common(1)[0][0]\n",
    "new_AreaId_data2 = new_AreaId_data2.fillna(AreaId_mode)"
   ]
  },
  {
   "cell_type": "code",
   "execution_count": 31,
   "metadata": {},
   "outputs": [
    {
     "data": {
      "text/plain": [
       "0"
      ]
     },
     "execution_count": 31,
     "metadata": {},
     "output_type": "execute_result"
    }
   ],
   "source": [
    "new_AreaId_data2.isnull().sum()"
   ]
  },
  {
   "cell_type": "code",
   "execution_count": 32,
   "metadata": {},
   "outputs": [
    {
     "data": {
      "image/png": "[encoded data removed]",
      "text/plain": [
       "<Figure size 720x216 with 2 Axes>"
      ]
     },
     "metadata": {
      "needs_background": "light"
     },
     "output_type": "display_data"
    }
   ],
   "source": [
    "drawhist(new_AreaId_data2)"
   ]
  },
  {
   "cell_type": "markdown",
   "metadata": {},
   "source": [
    "### 可视化对比新旧数据"
   ]
  },
  {
   "cell_type": "code",
   "execution_count": 33,
   "metadata": {},
   "outputs": [
    {
     "data": {
      "image/png": "[encoded data removed]",
      "text/plain": [
       "<Figure size 720x216 with 2 Axes>"
      ]
     },
     "metadata": {
      "needs_background": "light"
     },
     "output_type": "display_data"
    }
   ],
   "source": [
    "drawbox(new_AreaId_data2)"
   ]
  },
  {
   "cell_type": "code",
   "execution_count": 34,
   "metadata": {},
   "outputs": [
    {
     "name": "stderr",
     "output_type": "stream",
     "text": [
      "D:\\anaconda3\\lib\\site-packages\\scipy\\stats\\_distn_infrastructure.py:1932: RuntimeWarning: invalid value encountered in less_equal\n",
      "  cond2 = cond0 & (x <= _a)\n"
     ]
    },
    {
     "data": {
      "image/png": "[encoded data removed]",
      "text/plain": [
       "<Figure size 720x216 with 2 Axes>"
      ]
     },
     "metadata": {
      "needs_background": "light"
     },
     "output_type": "display_data"
    }
   ],
   "source": [
    "drawqq(new_AreaId_data2)"
   ]
  },
  {
   "cell_type": "code",
   "execution_count": 35,
   "metadata": {
    "execution": {
     "iopub.execute_input": "2021-03-28T11:35:23.200470Z",
     "iopub.status.busy": "2021-03-28T11:35:23.199782Z",
     "iopub.status.idle": "2021-03-28T11:35:23.215668Z",
     "shell.execute_reply": "2021-03-28T11:35:23.216197Z"
    },
    "papermill": {
     "duration": 0.065691,
     "end_time": "2021-03-28T11:35:23.216377",
     "exception": false,
     "start_time": "2021-03-28T11:35:23.150686",
     "status": "completed"
    },
    "tags": []
   },
   "outputs": [
    {
     "data": {
      "text/plain": [
       "count    180016.000000\n",
       "mean          1.736929\n",
       "std           0.746430\n",
       "min           1.000000\n",
       "25%           1.000000\n",
       "50%           2.000000\n",
       "75%           2.000000\n",
       "max           3.000000\n",
       "Name: Area Id, dtype: float64"
      ]
     },
     "execution_count": 35,
     "metadata": {},
     "output_type": "execute_result"
    }
   ],
   "source": [
    "new_AreaId_data2.describe()#数据描述"
   ]
  },
  {
   "cell_type": "markdown",
   "metadata": {
    "papermill": {
     "duration": 0.040478,
     "end_time": "2021-03-28T11:35:23.297845",
     "exception": false,
     "start_time": "2021-03-28T11:35:23.257367",
     "status": "completed"
    },
    "tags": []
   },
   "source": [
    "## 2.3 通过属性的相关关系来填补缺失值"
   ]
  },
  {
   "cell_type": "markdown",
   "metadata": {},
   "source": [
    "探寻变量之间的相关关系，找到相关性较高的两个变量后，再寻找他们之间的线性回归关系，最后通过线性回归关系计算缺失值进行填补。"
   ]
  },
  {
   "cell_type": "markdown",
   "metadata": {},
   "source": [
    "查看属性的相关关系"
   ]
  },
  {
   "cell_type": "code",
   "execution_count": 36,
   "metadata": {
    "execution": {
     "iopub.execute_input": "2021-03-28T11:35:23.383178Z",
     "iopub.status.busy": "2021-03-28T11:35:23.382386Z",
     "iopub.status.idle": "2021-03-28T11:35:23.398257Z",
     "shell.execute_reply": "2021-03-28T11:35:23.398831Z"
    },
    "papermill": {
     "duration": 0.060374,
     "end_time": "2021-03-28T11:35:23.399018",
     "exception": false,
     "start_time": "2021-03-28T11:35:23.338644",
     "status": "completed"
    },
    "tags": []
   },
   "outputs": [
    {
     "data": {
      "text/html": [
       "<div>\n",
       "<style scoped>\n",
       "    .dataframe tbody tr th:only-of-type {\n",
       "        vertical-align: middle;\n",
       "    }\n",
       "\n",
       "    .dataframe tbody tr th {\n",
       "        vertical-align: top;\n",
       "    }\n",
       "\n",
       "    .dataframe thead th {\n",
       "        text-align: right;\n",
       "    }\n",
       "</style>\n",
       "<table border=\"1\" class=\"dataframe\">\n",
       "  <thead>\n",
       "    <tr style=\"text-align: right;\">\n",
       "      <th></th>\n",
       "      <th>Area Id</th>\n",
       "      <th>Priority</th>\n",
       "    </tr>\n",
       "  </thead>\n",
       "  <tbody>\n",
       "    <tr>\n",
       "      <th>Area Id</th>\n",
       "      <td>1.000000</td>\n",
       "      <td>-0.023366</td>\n",
       "    </tr>\n",
       "    <tr>\n",
       "      <th>Priority</th>\n",
       "      <td>-0.023366</td>\n",
       "      <td>1.000000</td>\n",
       "    </tr>\n",
       "  </tbody>\n",
       "</table>\n",
       "</div>"
      ],
      "text/plain": [
       "           Area Id  Priority\n",
       "Area Id   1.000000 -0.023366\n",
       "Priority -0.023366  1.000000"
      ]
     },
     "execution_count": 36,
     "metadata": {},
     "output_type": "execute_result"
    }
   ],
   "source": [
    "data.corr()"
   ]
  },
  {
   "cell_type": "markdown",
   "metadata": {},
   "source": [
    "可见Area ID与priority具有相关性，建立线性预测模型来预测缺失值"
   ]
  },
  {
   "cell_type": "code",
   "execution_count": 37,
   "metadata": {},
   "outputs": [],
   "source": [
    "from sklearn.linear_model import LinearRegression"
   ]
  },
  {
   "cell_type": "code",
   "execution_count": 38,
   "metadata": {},
   "outputs": [
    {
     "data": {
      "text/plain": [
       "(array([-0.04322071]), 1.8182398592358373)"
      ]
     },
     "execution_count": 38,
     "metadata": {},
     "output_type": "execute_result"
    }
   ],
   "source": [
    "new_data = data.dropna(subset=['Area Id'])\n",
    "x = new_data['Priority']\n",
    "y = new_data['Area Id']\n",
    "x = np.array(x).reshape(-1, 1)\n",
    "model = LinearRegression()\n",
    "model.fit(x, y)\n",
    "model.coef_,model.intercept_"
   ]
  },
  {
   "cell_type": "code",
   "execution_count": 39,
   "metadata": {},
   "outputs": [],
   "source": [
    "new_AreaId_data3 = data['Area Id'].copy(deep=True)\n",
    "new_Priority_data = data['Priority'].copy(deep=True)\n",
    "i=0\n",
    "flag1 = new_AreaId_data3.isnull().values\n",
    "flag2 = new_Priority_data.isnull().values\n",
    "for _,value in new_AreaId_data3.iteritems():\n",
    "    if (flag1[i]==True) and (flag2[i]==False):\n",
    "        new_AreaId_data3[i] = -0.04322071*new_Priority_data[i]+1.8182398592358373\n",
    "    i=i+1"
   ]
  },
  {
   "cell_type": "code",
   "execution_count": 40,
   "metadata": {},
   "outputs": [
    {
     "data": {
      "text/plain": [
       "1"
      ]
     },
     "execution_count": 40,
     "metadata": {},
     "output_type": "execute_result"
    }
   ],
   "source": [
    "new_AreaId_data3.isnull().sum()"
   ]
  },
  {
   "cell_type": "code",
   "execution_count": 41,
   "metadata": {},
   "outputs": [
    {
     "data": {
      "text/plain": [
       "count    180015.000000\n",
       "mean          1.740611\n",
       "std           0.744594\n",
       "min           1.000000\n",
       "25%           1.000000\n",
       "50%           2.000000\n",
       "75%           2.000000\n",
       "max           3.000000\n",
       "Name: Area Id, dtype: float64"
      ]
     },
     "execution_count": 41,
     "metadata": {},
     "output_type": "execute_result"
    }
   ],
   "source": [
    "new_AreaId_data3.describe()"
   ]
  },
  {
   "cell_type": "markdown",
   "metadata": {},
   "source": [
    "### 可视化对比新旧数据集"
   ]
  },
  {
   "cell_type": "code",
   "execution_count": 42,
   "metadata": {},
   "outputs": [
    {
     "data": {
      "image/png": "[encoded data removed]",
      "text/plain": [
       "<Figure size 720x216 with 2 Axes>"
      ]
     },
     "metadata": {
      "needs_background": "light"
     },
     "output_type": "display_data"
    }
   ],
   "source": [
    "drawhist(new_AreaId_data3)"
   ]
  },
  {
   "cell_type": "code",
   "execution_count": 43,
   "metadata": {},
   "outputs": [
    {
     "data": {
      "image/png": "[encoded data removed]",
      "text/plain": [
       "<Figure size 720x216 with 2 Axes>"
      ]
     },
     "metadata": {
      "needs_background": "light"
     },
     "output_type": "display_data"
    }
   ],
   "source": [
    "drawbox(new_AreaId_data3)"
   ]
  },
  {
   "cell_type": "code",
   "execution_count": 44,
   "metadata": {},
   "outputs": [
    {
     "name": "stderr",
     "output_type": "stream",
     "text": [
      "D:\\anaconda3\\lib\\site-packages\\scipy\\stats\\_distn_infrastructure.py:1932: RuntimeWarning: invalid value encountered in less_equal\n",
      "  cond2 = cond0 & (x <= _a)\n",
      "D:\\anaconda3\\lib\\site-packages\\scipy\\stats\\_distn_infrastructure.py:1932: RuntimeWarning: invalid value encountered in less_equal\n",
      "  cond2 = cond0 & (x <= _a)\n"
     ]
    },
    {
     "data": {
      "image/png": "[encoded data removed]",
      "text/plain": [
       "<Figure size 720x216 with 2 Axes>"
      ]
     },
     "metadata": {
      "needs_background": "light"
     },
     "output_type": "display_data"
    }
   ],
   "source": [
    "drawqq(new_AreaId_data3)"
   ]
  },
  {
   "cell_type": "markdown",
   "metadata": {
    "papermill": {
     "duration": 0.043072,
     "end_time": "2021-03-28T11:35:25.799828",
     "exception": false,
     "start_time": "2021-03-28T11:35:25.756756",
     "status": "completed"
    },
    "tags": []
   },
   "source": [
    "## 2.4 通过对象的相似性填补缺失值"
   ]
  },
  {
   "cell_type": "markdown",
   "metadata": {},
   "source": [
    "通过数据对象priority之间的相似性来填补缺失值"
   ]
  },
  {
   "cell_type": "code",
   "execution_count": 51,
   "metadata": {},
   "outputs": [],
   "source": [
    "Object = ['Area Id','Priority']\n",
    "\n",
    "#找到最相似数据\n",
    "def find_resemble_data(dataset, pos, Object):\n",
    "    def dis_objs(left_index, right_index):\n",
    "        left = dataset.iloc[left_index]\n",
    "        right = dataset.iloc[right_index]\n",
    "        result = 0\n",
    "        for col in left.index:\n",
    "            if col == 'Priority':\n",
    "                if (not math.isnan(left[col])) and (not math.isnan(right[col])):                 \n",
    "                    result += right[col] - left[col]                \n",
    "                else:\n",
    "                    result += 999\n",
    "        return result\n",
    "\n",
    "    \n",
    "    median = 999\n",
    "    result_pos = -1\n",
    "    left = 0;\n",
    "    right = dataset.shape[0]-1\n",
    "    \n",
    "    while left<=right:\n",
    "        median = int((left+right)/2)\n",
    "        tmpdis = dis_objs(pos,median)        \n",
    "        if(tmpdis>0):\n",
    "            right = median-1            \n",
    "        elif(tmpdis == 0):\n",
    "            result_pos = median\n",
    "            break;\n",
    "        else:\n",
    "            left = median+1        \n",
    "        if(tmpdis<median):\n",
    "            result_pos = median  \n",
    "    return result_pos\n",
    "\n",
    "\n",
    "\n",
    "\n",
    "new_data = pd.DataFrame(data[Object].copy(deep=True))\n",
    "\n",
    "new_data.sort_values(\"Priority\",inplace=True)\n",
    "new_AreaID_data4 = new_data['Area Id'].copy(deep=True)\n",
    "\n",
    "length = new_data.shape[0]\n",
    "count=1;\n",
    "for i in range(length):\n",
    "    if math.isnan(new_data['Area Id'].iloc[i]):  \n",
    "        result = find_resemble_data(new_data, i, Object)\n",
    "        new_AreaID_data4.iloc[i] = new_AreaID_data4.iloc[result]\n",
    "        count+=1"
   ]
  },
  {
   "cell_type": "code",
   "execution_count": 52,
   "metadata": {},
   "outputs": [
    {
     "data": {
      "text/plain": [
       "0"
      ]
     },
     "execution_count": 52,
     "metadata": {},
     "output_type": "execute_result"
    }
   ],
   "source": [
    "new_AreaID_data4.isnull().sum()"
   ]
  },
  {
   "cell_type": "code",
   "execution_count": 53,
   "metadata": {
    "execution": {
     "iopub.execute_input": "2021-03-28T11:35:43.155474Z",
     "iopub.status.busy": "2021-03-28T11:35:43.154794Z",
     "iopub.status.idle": "2021-03-28T11:35:43.168120Z",
     "shell.execute_reply": "2021-03-28T11:35:43.167561Z"
    },
    "papermill": {
     "duration": 0.064641,
     "end_time": "2021-03-28T11:35:43.168269",
     "exception": false,
     "start_time": "2021-03-28T11:35:43.103628",
     "status": "completed"
    },
    "tags": []
   },
   "outputs": [
    {
     "data": {
      "text/plain": [
       "count    180016.000000\n",
       "mean          1.741945\n",
       "std           0.744819\n",
       "min           1.000000\n",
       "25%           1.000000\n",
       "50%           2.000000\n",
       "75%           2.000000\n",
       "max           3.000000\n",
       "Name: Area Id, dtype: float64"
      ]
     },
     "execution_count": 53,
     "metadata": {},
     "output_type": "execute_result"
    }
   ],
   "source": [
    "new_AreaID_data4.describe()#数据描述"
   ]
  },
  {
   "cell_type": "markdown",
   "metadata": {},
   "source": [
    "### 可视化对比新旧数据集"
   ]
  },
  {
   "cell_type": "code",
   "execution_count": 54,
   "metadata": {},
   "outputs": [
    {
     "data": {
      "image/png": "[encoded data removed]",
      "text/plain": [
       "<Figure size 720x216 with 2 Axes>"
      ]
     },
     "metadata": {
      "needs_background": "light"
     },
     "output_type": "display_data"
    }
   ],
   "source": [
    "drawhist(new_AreaID_data4)"
   ]
  },
  {
   "cell_type": "code",
   "execution_count": 55,
   "metadata": {},
   "outputs": [
    {
     "data": {
      "image/png": "[encoded data removed]",
      "text/plain": [
       "<Figure size 720x216 with 2 Axes>"
      ]
     },
     "metadata": {
      "needs_background": "light"
     },
     "output_type": "display_data"
    }
   ],
   "source": [
    "drawbox(new_AreaID_data4)"
   ]
  },
  {
   "cell_type": "code",
   "execution_count": 56,
   "metadata": {},
   "outputs": [
    {
     "name": "stderr",
     "output_type": "stream",
     "text": [
      "D:\\anaconda3\\lib\\site-packages\\scipy\\stats\\_distn_infrastructure.py:1932: RuntimeWarning: invalid value encountered in less_equal\n",
      "  cond2 = cond0 & (x <= _a)\n"
     ]
    },
    {
     "data": {
      "image/png": "[encoded data removed]",
      "text/plain": [
       "<Figure size 720x216 with 2 Axes>"
      ]
     },
     "metadata": {
      "needs_background": "light"
     },
     "output_type": "display_data"
    }
   ],
   "source": [
    "drawqq(new_AreaID_data4)"
   ]
  },
  {
   "cell_type": "code",
   "execution_count": null,
   "metadata": {},
   "outputs": [],
   "source": []
  },
  {
   "cell_type": "code",
   "execution_count": null,
   "metadata": {},
   "outputs": [],
   "source": []
  }
 ],
 "metadata": {
  "kernelspec": {
   "display_name": "Python 3",
   "language": "python",
   "name": "python3"
  },
  "language_info": {
   "codemirror_mode": {
    "name": "ipython",
    "version": 3
   },
   "file_extension": ".py",
   "mimetype": "text/x-python",
   "name": "python",
   "nbconvert_exporter": "python",
   "pygments_lexer": "ipython3",
   "version": "3.8.3"
  },
  "papermill": {
   "default_parameters": {},
   "duration": 40.842103,
   "end_time": "2021-03-28T11:35:43.926073",
   "environment_variables": {},
   "exception": null,
   "input_path": "__notebook__.ipynb",
   "output_path": "__notebook__.ipynb",
   "parameters": {},
   "start_time": "2021-03-28T11:35:03.083970",
   "version": "2.2.2"
  }
 },
 "nbformat": 4,
 "nbformat_minor": 4
}
