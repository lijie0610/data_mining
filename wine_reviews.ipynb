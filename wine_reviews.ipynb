{
 "cells": [
  {
   "cell_type": "markdown",
   "metadata": {},
   "source": [
    "# 作业一 数据探索性分析与数据预处理"
   ]
  },
  {
   "cell_type": "markdown",
   "metadata": {
    "papermill": {
     "duration": 0.026838,
     "end_time": "2021-03-28T11:35:09.298650",
     "exception": false,
     "start_time": "2021-03-28T11:35:09.271812",
     "status": "completed"
    },
    "tags": []
   },
   "source": [
    "# 数据集：wine-reviews\n",
    "\n",
    "## 代码地址：https://github.com/lijie0610/data_mining/tree/data_analysis"
   ]
  },
  {
   "cell_type": "markdown",
   "metadata": {},
   "source": [
    "# 0 数据准备及查看"
   ]
  },
  {
   "cell_type": "code",
   "execution_count": 1,
   "metadata": {
    "_cell_guid": "af176ef0-bf50-4206-bf4b-cbf5b6bfe884",
    "_uuid": "9271c2b3-6290-4c70-9af7-2c366a9c530d",
    "execution": {
     "iopub.execute_input": "2021-03-28T11:35:09.357626Z",
     "iopub.status.busy": "2021-03-28T11:35:09.356801Z",
     "iopub.status.idle": "2021-03-28T11:35:10.252483Z",
     "shell.execute_reply": "2021-03-28T11:35:10.251533Z"
    },
    "papermill": {
     "duration": 0.928266,
     "end_time": "2021-03-28T11:35:10.252738",
     "exception": false,
     "start_time": "2021-03-28T11:35:09.324472",
     "status": "completed"
    },
    "tags": []
   },
   "outputs": [],
   "source": [
    "#导入包\n",
    "import matplotlib.pyplot as plt\n",
    "import pandas as pd\n",
    "import numpy as np\n",
    "from scipy import stats\n",
    "from collections import Counter\n",
    "from math import isnan\n",
    "import math\n"
   ]
  },
  {
   "cell_type": "markdown",
   "metadata": {
    "papermill": {
     "duration": 0.024937,
     "end_time": "2021-03-28T11:35:10.304700",
     "exception": false,
     "start_time": "2021-03-28T11:35:10.279763",
     "status": "completed"
    },
    "tags": []
   },
   "source": [
    "## 查看数据集"
   ]
  },
  {
   "cell_type": "markdown",
   "metadata": {},
   "source": [
    "以winemag-data_first150k.csv为例"
   ]
  },
  {
   "cell_type": "code",
   "execution_count": 2,
   "metadata": {
    "execution": {
     "iopub.execute_input": "2021-03-28T11:35:10.436454Z",
     "iopub.status.busy": "2021-03-28T11:35:10.435780Z",
     "iopub.status.idle": "2021-03-28T11:35:12.021709Z",
     "shell.execute_reply": "2021-03-28T11:35:12.022203Z"
    },
    "papermill": {
     "duration": 1.617894,
     "end_time": "2021-03-28T11:35:12.022398",
     "exception": false,
     "start_time": "2021-03-28T11:35:10.404504",
     "status": "completed"
    },
    "tags": []
   },
   "outputs": [
    {
     "data": {
      "text/html": [
       "<div>\n",
       "<style scoped>\n",
       "    .dataframe tbody tr th:only-of-type {\n",
       "        vertical-align: middle;\n",
       "    }\n",
       "\n",
       "    .dataframe tbody tr th {\n",
       "        vertical-align: top;\n",
       "    }\n",
       "\n",
       "    .dataframe thead th {\n",
       "        text-align: right;\n",
       "    }\n",
       "</style>\n",
       "<table border=\"1\" class=\"dataframe\">\n",
       "  <thead>\n",
       "    <tr style=\"text-align: right;\">\n",
       "      <th></th>\n",
       "      <th>country</th>\n",
       "      <th>description</th>\n",
       "      <th>designation</th>\n",
       "      <th>points</th>\n",
       "      <th>price</th>\n",
       "      <th>province</th>\n",
       "      <th>region_1</th>\n",
       "      <th>region_2</th>\n",
       "      <th>variety</th>\n",
       "      <th>winery</th>\n",
       "    </tr>\n",
       "  </thead>\n",
       "  <tbody>\n",
       "    <tr>\n",
       "      <th>0</th>\n",
       "      <td>US</td>\n",
       "      <td>This tremendous 100% varietal wine hails from ...</td>\n",
       "      <td>Martha's Vineyard</td>\n",
       "      <td>96</td>\n",
       "      <td>235.0</td>\n",
       "      <td>California</td>\n",
       "      <td>Napa Valley</td>\n",
       "      <td>Napa</td>\n",
       "      <td>Cabernet Sauvignon</td>\n",
       "      <td>Heitz</td>\n",
       "    </tr>\n",
       "    <tr>\n",
       "      <th>1</th>\n",
       "      <td>Spain</td>\n",
       "      <td>Ripe aromas of fig, blackberry and cassis are ...</td>\n",
       "      <td>Carodorum Selección Especial Reserva</td>\n",
       "      <td>96</td>\n",
       "      <td>110.0</td>\n",
       "      <td>Northern Spain</td>\n",
       "      <td>Toro</td>\n",
       "      <td>NaN</td>\n",
       "      <td>Tinta de Toro</td>\n",
       "      <td>Bodega Carmen Rodríguez</td>\n",
       "    </tr>\n",
       "    <tr>\n",
       "      <th>2</th>\n",
       "      <td>US</td>\n",
       "      <td>Mac Watson honors the memory of a wine once ma...</td>\n",
       "      <td>Special Selected Late Harvest</td>\n",
       "      <td>96</td>\n",
       "      <td>90.0</td>\n",
       "      <td>California</td>\n",
       "      <td>Knights Valley</td>\n",
       "      <td>Sonoma</td>\n",
       "      <td>Sauvignon Blanc</td>\n",
       "      <td>Macauley</td>\n",
       "    </tr>\n",
       "    <tr>\n",
       "      <th>3</th>\n",
       "      <td>US</td>\n",
       "      <td>This spent 20 months in 30% new French oak, an...</td>\n",
       "      <td>Reserve</td>\n",
       "      <td>96</td>\n",
       "      <td>65.0</td>\n",
       "      <td>Oregon</td>\n",
       "      <td>Willamette Valley</td>\n",
       "      <td>Willamette Valley</td>\n",
       "      <td>Pinot Noir</td>\n",
       "      <td>Ponzi</td>\n",
       "    </tr>\n",
       "    <tr>\n",
       "      <th>4</th>\n",
       "      <td>France</td>\n",
       "      <td>This is the top wine from La Bégude, named aft...</td>\n",
       "      <td>La Brûlade</td>\n",
       "      <td>95</td>\n",
       "      <td>66.0</td>\n",
       "      <td>Provence</td>\n",
       "      <td>Bandol</td>\n",
       "      <td>NaN</td>\n",
       "      <td>Provence red blend</td>\n",
       "      <td>Domaine de la Bégude</td>\n",
       "    </tr>\n",
       "  </tbody>\n",
       "</table>\n",
       "</div>"
      ],
      "text/plain": [
       "  country                                        description  \\\n",
       "0      US  This tremendous 100% varietal wine hails from ...   \n",
       "1   Spain  Ripe aromas of fig, blackberry and cassis are ...   \n",
       "2      US  Mac Watson honors the memory of a wine once ma...   \n",
       "3      US  This spent 20 months in 30% new French oak, an...   \n",
       "4  France  This is the top wine from La Bégude, named aft...   \n",
       "\n",
       "                            designation  points  price        province  \\\n",
       "0                     Martha's Vineyard      96  235.0      California   \n",
       "1  Carodorum Selección Especial Reserva      96  110.0  Northern Spain   \n",
       "2         Special Selected Late Harvest      96   90.0      California   \n",
       "3                               Reserve      96   65.0          Oregon   \n",
       "4                            La Brûlade      95   66.0        Provence   \n",
       "\n",
       "            region_1           region_2             variety  \\\n",
       "0        Napa Valley               Napa  Cabernet Sauvignon   \n",
       "1               Toro                NaN       Tinta de Toro   \n",
       "2     Knights Valley             Sonoma     Sauvignon Blanc   \n",
       "3  Willamette Valley  Willamette Valley          Pinot Noir   \n",
       "4             Bandol                NaN  Provence red blend   \n",
       "\n",
       "                    winery  \n",
       "0                    Heitz  \n",
       "1  Bodega Carmen Rodríguez  \n",
       "2                 Macauley  \n",
       "3                    Ponzi  \n",
       "4     Domaine de la Bégude  "
      ]
     },
     "execution_count": 2,
     "metadata": {},
     "output_type": "execute_result"
    }
   ],
   "source": [
    "#读取数据集\n",
    "data = pd.read_csv('D:/Users/Desktop/data/Wine Reviews/winemag-data_first150k.csv',index_col=0)\n",
    "data.head()#数据展示"
   ]
  },
  {
   "cell_type": "markdown",
   "metadata": {},
   "source": [
    "wine表共含有10个字段，分别解释为：<br>\n",
    "country：产出国<br>\n",
    "description：葡萄酒描述<br>\n",
    "designation：酿造葡萄酒的葡萄来自葡萄园<br>\n",
    "points：葡萄酒评分<br>\n",
    "price：葡萄酒成本<br>\n",
    "province：产出省<br>\n",
    "region_1：产出区域1<br>\n",
    "region_2：产出区域2<br>\n",
    "variety：用于酿造葡萄酒的葡萄种类<br>\n",
    "winery：生产葡萄酒的酿酒厂"
   ]
  },
  {
   "cell_type": "code",
   "execution_count": 3,
   "metadata": {
    "execution": {
     "iopub.execute_input": "2021-03-28T11:35:12.152182Z",
     "iopub.status.busy": "2021-03-28T11:35:12.151191Z",
     "iopub.status.idle": "2021-03-28T11:35:12.155502Z",
     "shell.execute_reply": "2021-03-28T11:35:12.155993Z"
    },
    "papermill": {
     "duration": 0.038193,
     "end_time": "2021-03-28T11:35:12.156176",
     "exception": false,
     "start_time": "2021-03-28T11:35:12.117983",
     "status": "completed"
    },
    "tags": []
   },
   "outputs": [
    {
     "data": {
      "text/plain": [
       "(150930, 10)"
      ]
     },
     "execution_count": 3,
     "metadata": {},
     "output_type": "execute_result"
    }
   ],
   "source": [
    "data.shape #数据集的大小"
   ]
  },
  {
   "cell_type": "markdown",
   "metadata": {},
   "source": [
    "winemag-data_first150k.csv包含10列和15万行葡萄酒评论。"
   ]
  },
  {
   "cell_type": "markdown",
   "metadata": {
    "papermill": {
     "duration": 0.027347,
     "end_time": "2021-03-28T11:35:12.267303",
     "exception": false,
     "start_time": "2021-03-28T11:35:12.239956",
     "status": "completed"
    },
    "tags": []
   },
   "source": [
    "# 1 数据可视化和摘要\n",
    "\n"
   ]
  },
  {
   "cell_type": "markdown",
   "metadata": {
    "papermill": {
     "duration": 0.027477,
     "end_time": "2021-03-28T11:35:12.322540",
     "exception": false,
     "start_time": "2021-03-28T11:35:12.295063",
     "status": "completed"
    },
    "tags": []
   },
   "source": [
    "## 1.1 数据摘要\n",
    "### 标称属性，给出每个可能聚会的频数"
   ]
  },
  {
   "cell_type": "markdown",
   "metadata": {},
   "source": [
    "标称属性有'country','designation','province','region_1','region_2'<br>\n",
    "统计每个属性的频数"
   ]
  },
  {
   "cell_type": "code",
   "execution_count": 4,
   "metadata": {
    "execution": {
     "iopub.execute_input": "2021-03-28T11:35:12.422218Z",
     "iopub.status.busy": "2021-03-28T11:35:12.421182Z",
     "iopub.status.idle": "2021-03-28T11:35:12.429291Z",
     "shell.execute_reply": "2021-03-28T11:35:12.429934Z"
    },
    "papermill": {
     "duration": 0.079604,
     "end_time": "2021-03-28T11:35:12.430110",
     "exception": false,
     "start_time": "2021-03-28T11:35:12.350506",
     "status": "completed"
    },
    "tags": []
   },
   "outputs": [
    {
     "data": {
      "text/plain": [
       "US                        62397\n",
       "Italy                     23478\n",
       "France                    21098\n",
       "Spain                      8268\n",
       "Chile                      5816\n",
       "Argentina                  5631\n",
       "Portugal                   5322\n",
       "Australia                  4957\n",
       "New Zealand                3320\n",
       "Austria                    3057\n",
       "Germany                    2452\n",
       "South Africa               2258\n",
       "Greece                      884\n",
       "Israel                      630\n",
       "Hungary                     231\n",
       "Canada                      196\n",
       "Romania                     139\n",
       "Slovenia                     94\n",
       "Uruguay                      92\n",
       "Croatia                      89\n",
       "Bulgaria                     77\n",
       "Moldova                      71\n",
       "Mexico                       63\n",
       "Turkey                       52\n",
       "Georgia                      43\n",
       "Lebanon                      37\n",
       "Cyprus                       31\n",
       "Brazil                       25\n",
       "Macedonia                    16\n",
       "Serbia                       14\n",
       "Morocco                      12\n",
       "Luxembourg                    9\n",
       "England                       9\n",
       "India                         8\n",
       "Lithuania                     8\n",
       "Czech Republic                6\n",
       "Ukraine                       5\n",
       "Bosnia and Herzegovina        4\n",
       "Switzerland                   4\n",
       "South Korea                   4\n",
       "Egypt                         3\n",
       "Slovakia                      3\n",
       "China                         3\n",
       "Tunisia                       2\n",
       "Albania                       2\n",
       "Japan                         2\n",
       "Montenegro                    2\n",
       "US-France                     1\n",
       "Name: country, dtype: int64"
      ]
     },
     "execution_count": 4,
     "metadata": {},
     "output_type": "execute_result"
    }
   ],
   "source": [
    "pd.value_counts(data['country'])#country"
   ]
  },
  {
   "cell_type": "code",
   "execution_count": 5,
   "metadata": {
    "execution": {
     "iopub.execute_input": "2021-03-28T11:35:12.541492Z",
     "iopub.status.busy": "2021-03-28T11:35:12.527456Z",
     "iopub.status.idle": "2021-03-28T11:35:12.560403Z",
     "shell.execute_reply": "2021-03-28T11:35:12.559756Z"
    },
    "papermill": {
     "duration": 0.102009,
     "end_time": "2021-03-28T11:35:12.560547",
     "exception": false,
     "start_time": "2021-03-28T11:35:12.458538",
     "status": "completed"
    },
    "tags": []
   },
   "outputs": [
    {
     "data": {
      "text/plain": [
       "Reserve                2752\n",
       "Reserva                1810\n",
       "Estate                 1571\n",
       "Barrel sample          1326\n",
       "Riserva                 754\n",
       "                       ... \n",
       "The Mayor                 1\n",
       "Alba in Vigna             1\n",
       "Lodi Estates              1\n",
       "Punta Esencia             1\n",
       "le Mistral Vineyard       1\n",
       "Name: designation, Length: 30621, dtype: int64"
      ]
     },
     "execution_count": 5,
     "metadata": {},
     "output_type": "execute_result"
    }
   ],
   "source": [
    "pd.value_counts(data['designation'])#designation"
   ]
  },
  {
   "cell_type": "code",
   "execution_count": 6,
   "metadata": {
    "execution": {
     "iopub.execute_input": "2021-03-28T11:35:12.662555Z",
     "iopub.status.busy": "2021-03-28T11:35:12.659204Z",
     "iopub.status.idle": "2021-03-28T11:35:12.669769Z",
     "shell.execute_reply": "2021-03-28T11:35:12.669160Z"
    },
    "papermill": {
     "duration": 0.080475,
     "end_time": "2021-03-28T11:35:12.669944",
     "exception": false,
     "start_time": "2021-03-28T11:35:12.589469",
     "status": "completed"
    },
    "tags": []
   },
   "outputs": [
    {
     "data": {
      "text/plain": [
       "California        44508\n",
       "Washington         9750\n",
       "Tuscany            7281\n",
       "Bordeaux           6111\n",
       "Northern Spain     4892\n",
       "                  ...  \n",
       "Limnos                1\n",
       "Langenlois            1\n",
       "Douro Superior        1\n",
       "Ilia                  1\n",
       "Neuchâtel             1\n",
       "Name: province, Length: 455, dtype: int64"
      ]
     },
     "execution_count": 6,
     "metadata": {},
     "output_type": "execute_result"
    }
   ],
   "source": [
    "pd.value_counts(data['province'])#province"
   ]
  },
  {
   "cell_type": "code",
   "execution_count": 7,
   "metadata": {
    "execution": {
     "iopub.execute_input": "2021-03-28T11:35:12.767914Z",
     "iopub.status.busy": "2021-03-28T11:35:12.767174Z",
     "iopub.status.idle": "2021-03-28T11:35:12.775560Z",
     "shell.execute_reply": "2021-03-28T11:35:12.775028Z"
    },
    "papermill": {
     "duration": 0.075958,
     "end_time": "2021-03-28T11:35:12.775711",
     "exception": false,
     "start_time": "2021-03-28T11:35:12.699753",
     "status": "completed"
    },
    "tags": []
   },
   "outputs": [
    {
     "data": {
      "text/plain": [
       "Napa Valley                             6209\n",
       "Columbia Valley (WA)                    4975\n",
       "Mendoza                                 3586\n",
       "Russian River Valley                    3571\n",
       "California                              3462\n",
       "                                        ... \n",
       "Asolo Prosecco Superiore                   1\n",
       "Langhorne Creek-Limestone Coast            1\n",
       "Bourgogne Vézelay                          1\n",
       "Vin de Pays des Coteaux de L'Ardeche       1\n",
       "Musigny                                    1\n",
       "Name: region_1, Length: 1236, dtype: int64"
      ]
     },
     "execution_count": 7,
     "metadata": {},
     "output_type": "execute_result"
    }
   ],
   "source": [
    "pd.value_counts(data['region_1'])#region_1"
   ]
  },
  {
   "cell_type": "code",
   "execution_count": 8,
   "metadata": {
    "execution": {
     "iopub.execute_input": "2021-03-28T11:35:12.865767Z",
     "iopub.status.busy": "2021-03-28T11:35:12.862855Z",
     "iopub.status.idle": "2021-03-28T11:35:12.870262Z",
     "shell.execute_reply": "2021-03-28T11:35:12.870775Z"
    },
    "papermill": {
     "duration": 0.065535,
     "end_time": "2021-03-28T11:35:12.870967",
     "exception": false,
     "start_time": "2021-03-28T11:35:12.805432",
     "status": "completed"
    },
    "tags": []
   },
   "outputs": [
    {
     "data": {
      "text/plain": [
       "Central Coast              13057\n",
       "Sonoma                     11258\n",
       "Columbia Valley             9157\n",
       "Napa                        8801\n",
       "California Other            3516\n",
       "Willamette Valley           3181\n",
       "Mendocino/Lake Counties     2389\n",
       "Sierra Foothills            1660\n",
       "Napa-Sonoma                 1645\n",
       "Finger Lakes                1510\n",
       "Central Valley              1115\n",
       "Long Island                  771\n",
       "Southern Oregon              662\n",
       "Oregon Other                 661\n",
       "North Coast                  632\n",
       "Washington Other             593\n",
       "South Coast                  198\n",
       "New York Other               147\n",
       "Name: region_2, dtype: int64"
      ]
     },
     "execution_count": 8,
     "metadata": {},
     "output_type": "execute_result"
    }
   ],
   "source": [
    "pd.value_counts(data['region_2'])#region_2"
   ]
  },
  {
   "cell_type": "code",
   "execution_count": 9,
   "metadata": {
    "execution": {
     "iopub.execute_input": "2021-03-28T11:35:12.975655Z",
     "iopub.status.busy": "2021-03-28T11:35:12.972283Z",
     "iopub.status.idle": "2021-03-28T11:35:12.981729Z",
     "shell.execute_reply": "2021-03-28T11:35:12.980947Z"
    },
    "papermill": {
     "duration": 0.080821,
     "end_time": "2021-03-28T11:35:12.981877",
     "exception": false,
     "start_time": "2021-03-28T11:35:12.901056",
     "status": "completed"
    },
    "tags": []
   },
   "outputs": [
    {
     "data": {
      "text/plain": [
       "Chardonnay                  14482\n",
       "Pinot Noir                  14291\n",
       "Cabernet Sauvignon          12800\n",
       "Red Blend                   10062\n",
       "Bordeaux-style Red Blend     7347\n",
       "                            ...  \n",
       "Moscofilero                     1\n",
       "Huxelrebe                       1\n",
       "Pinela                          1\n",
       "Parraleta                       1\n",
       "Pinotage-Merlot                 1\n",
       "Name: variety, Length: 632, dtype: int64"
      ]
     },
     "execution_count": 9,
     "metadata": {},
     "output_type": "execute_result"
    }
   ],
   "source": [
    "pd.value_counts(data['variety'])#variety"
   ]
  },
  {
   "cell_type": "code",
   "execution_count": 10,
   "metadata": {
    "execution": {
     "iopub.execute_input": "2021-03-28T11:35:13.095950Z",
     "iopub.status.busy": "2021-03-28T11:35:13.094792Z",
     "iopub.status.idle": "2021-03-28T11:35:13.106003Z",
     "shell.execute_reply": "2021-03-28T11:35:13.105487Z"
    },
    "papermill": {
     "duration": 0.092302,
     "end_time": "2021-03-28T11:35:13.106156",
     "exception": false,
     "start_time": "2021-03-28T11:35:13.013854",
     "status": "completed"
    },
    "tags": []
   },
   "outputs": [
    {
     "data": {
      "text/plain": [
       "Williams Selyem                 374\n",
       "Testarossa                      274\n",
       "DFJ Vinhos                      258\n",
       "Chateau Ste. Michelle           225\n",
       "Columbia Crest                  217\n",
       "                               ... \n",
       "Tenuta Ponte                      1\n",
       "Château la Grande Barthe          1\n",
       "Domaine Guy & Yvan Dufouleur      1\n",
       "Marco Porello                     1\n",
       "Château Castelbruck               1\n",
       "Name: winery, Length: 14810, dtype: int64"
      ]
     },
     "execution_count": 10,
     "metadata": {},
     "output_type": "execute_result"
    }
   ],
   "source": [
    "pd.value_counts(data['winery'])#winery"
   ]
  },
  {
   "cell_type": "markdown",
   "metadata": {
    "papermill": {
     "duration": 0.031323,
     "end_time": "2021-03-28T11:35:13.169608",
     "exception": false,
     "start_time": "2021-03-28T11:35:13.138285",
     "status": "completed"
    },
    "tags": []
   },
   "source": [
    "### 数值属性，给出5数概括及缺失值的个数"
   ]
  },
  {
   "cell_type": "markdown",
   "metadata": {},
   "source": [
    "数值属性包括points和price<br>\n",
    "分别给出5数概括"
   ]
  },
  {
   "cell_type": "code",
   "execution_count": 11,
   "metadata": {
    "execution": {
     "iopub.execute_input": "2021-03-28T11:35:13.243613Z",
     "iopub.status.busy": "2021-03-28T11:35:13.242958Z",
     "iopub.status.idle": "2021-03-28T11:35:13.267680Z",
     "shell.execute_reply": "2021-03-28T11:35:13.268154Z"
    },
    "papermill": {
     "duration": 0.067434,
     "end_time": "2021-03-28T11:35:13.268337",
     "exception": false,
     "start_time": "2021-03-28T11:35:13.200903",
     "status": "completed"
    },
    "tags": []
   },
   "outputs": [
    {
     "data": {
      "text/plain": [
       "count    150930.000000\n",
       "mean         87.888418\n",
       "std           3.222392\n",
       "min          80.000000\n",
       "25%          86.000000\n",
       "50%          88.000000\n",
       "75%          90.000000\n",
       "max         100.000000\n",
       "Name: points, dtype: float64"
      ]
     },
     "execution_count": 11,
     "metadata": {},
     "output_type": "execute_result"
    }
   ],
   "source": [
    "data['points'].describe()#points5数概括"
   ]
  },
  {
   "cell_type": "code",
   "execution_count": 12,
   "metadata": {},
   "outputs": [
    {
     "data": {
      "text/plain": [
       "count    137235.000000\n",
       "mean         33.131482\n",
       "std          36.322536\n",
       "min           4.000000\n",
       "25%          16.000000\n",
       "50%          24.000000\n",
       "75%          40.000000\n",
       "max        2300.000000\n",
       "Name: price, dtype: float64"
      ]
     },
     "execution_count": 12,
     "metadata": {},
     "output_type": "execute_result"
    }
   ],
   "source": [
    "data['price'].describe()#price5数概括"
   ]
  },
  {
   "cell_type": "markdown",
   "metadata": {},
   "source": [
    "分别给出缺失值个数"
   ]
  },
  {
   "cell_type": "code",
   "execution_count": 13,
   "metadata": {
    "execution": {
     "iopub.execute_input": "2021-03-28T11:35:13.335884Z",
     "iopub.status.busy": "2021-03-28T11:35:13.334908Z",
     "iopub.status.idle": "2021-03-28T11:35:13.342543Z",
     "shell.execute_reply": "2021-03-28T11:35:13.341995Z"
    },
    "papermill": {
     "duration": 0.042641,
     "end_time": "2021-03-28T11:35:13.342683",
     "exception": false,
     "start_time": "2021-03-28T11:35:13.300042",
     "status": "completed"
    },
    "tags": []
   },
   "outputs": [
    {
     "data": {
      "text/plain": [
       "0"
      ]
     },
     "execution_count": 13,
     "metadata": {},
     "output_type": "execute_result"
    }
   ],
   "source": [
    "data['points'].isnull().sum()#points缺失值个数"
   ]
  },
  {
   "cell_type": "code",
   "execution_count": 14,
   "metadata": {
    "execution": {
     "iopub.execute_input": "2021-03-28T11:35:13.415705Z",
     "iopub.status.busy": "2021-03-28T11:35:13.414859Z",
     "iopub.status.idle": "2021-03-28T11:35:13.420005Z",
     "shell.execute_reply": "2021-03-28T11:35:13.419339Z"
    },
    "papermill": {
     "duration": 0.042879,
     "end_time": "2021-03-28T11:35:13.420151",
     "exception": false,
     "start_time": "2021-03-28T11:35:13.377272",
     "status": "completed"
    },
    "tags": []
   },
   "outputs": [
    {
     "data": {
      "text/plain": [
       "13695"
      ]
     },
     "execution_count": 14,
     "metadata": {},
     "output_type": "execute_result"
    }
   ],
   "source": [
    "data['price'].isnull().sum()#price缺失值个数"
   ]
  },
  {
   "cell_type": "markdown",
   "metadata": {
    "papermill": {
     "duration": 0.035243,
     "end_time": "2021-03-28T11:35:15.712270",
     "exception": false,
     "start_time": "2021-03-28T11:35:15.677027",
     "status": "completed"
    },
    "tags": []
   },
   "source": [
    "数据摘要可以看出，美国是葡萄酒的主要出产国，主要来自的省份是California，葡萄种类以Chardonnay，Pinot Noir，Cabernet Sauvignon，Red Blend为主，葡萄酒的平均评分为87.89，平均成本为33.13"
   ]
  },
  {
   "cell_type": "markdown",
   "metadata": {
    "papermill": {
     "duration": 0.032473,
     "end_time": "2021-03-28T11:35:13.486520",
     "exception": false,
     "start_time": "2021-03-28T11:35:13.454047",
     "status": "completed"
    },
    "tags": []
   },
   "source": [
    "## 1.2 数据可视化\n",
    "### 使用直方图、盒图，qq图检查数据分布及离群点"
   ]
  },
  {
   "cell_type": "markdown",
   "metadata": {},
   "source": [
    "分别绘制points和price的直方图、盒图，qq图"
   ]
  },
  {
   "cell_type": "code",
   "execution_count": 15,
   "metadata": {},
   "outputs": [
    {
     "data": {
      "text/plain": [
       "<matplotlib.axes._subplots.AxesSubplot at 0x1574fc08b50>"
      ]
     },
     "execution_count": 15,
     "metadata": {},
     "output_type": "execute_result"
    },
    {
     "data": {
      "image/png": "[encoded data removed]",
      "text/plain": [
       "<Figure size 432x288 with 1 Axes>"
      ]
     },
     "metadata": {
      "needs_background": "light"
     },
     "output_type": "display_data"
    }
   ],
   "source": [
    "#points直方图\n",
    "plt.title(\"points hist\")\n",
    "data['points'].hist(alpha=0.5,bins=15)"
   ]
  },
  {
   "cell_type": "code",
   "execution_count": 16,
   "metadata": {},
   "outputs": [
    {
     "data": {
      "text/plain": [
       "<matplotlib.axes._subplots.AxesSubplot at 0x15750378d30>"
      ]
     },
     "execution_count": 16,
     "metadata": {},
     "output_type": "execute_result"
    },
    {
     "data": {
      "image/png": "[encoded data removed]",
      "text/plain": [
       "<Figure size 432x288 with 1 Axes>"
      ]
     },
     "metadata": {
      "needs_background": "light"
     },
     "output_type": "display_data"
    }
   ],
   "source": [
    "#points盒图\n",
    "plt.title(\"points box\")\n",
    "data['points'].plot(kind='box',notch=True,grid=True)"
   ]
  },
  {
   "cell_type": "code",
   "execution_count": 17,
   "metadata": {},
   "outputs": [
    {
     "data": {
      "text/plain": [
       "((array([-4.43552085, -4.24057241, -4.13467201, ...,  4.13467201,\n",
       "          4.24057241,  4.43552085]),\n",
       "  array([ 80,  80,  80, ..., 100, 100, 100], dtype=int64)),\n",
       " (3.203849125317321, 87.8884184721394, 0.9942191427994859))"
      ]
     },
     "execution_count": 17,
     "metadata": {},
     "output_type": "execute_result"
    },
    {
     "data": {
      "image/png": "[encoded data removed]",
      "text/plain": [
       "<Figure size 432x288 with 1 Axes>"
      ]
     },
     "metadata": {
      "needs_background": "light"
     },
     "output_type": "display_data"
    }
   ],
   "source": [
    "#points q-q图\n",
    "stats.probplot(data['points'],dist=\"norm\",plot=plt)"
   ]
  },
  {
   "cell_type": "code",
   "execution_count": 18,
   "metadata": {},
   "outputs": [
    {
     "data": {
      "text/plain": [
       "<matplotlib.axes._subplots.AxesSubplot at 0x157508355e0>"
      ]
     },
     "execution_count": 18,
     "metadata": {},
     "output_type": "execute_result"
    },
    {
     "data": {
      "image/png": "[encoded data removed]",
      "text/plain": [
       "<Figure size 432x288 with 1 Axes>"
      ]
     },
     "metadata": {
      "needs_background": "light"
     },
     "output_type": "display_data"
    }
   ],
   "source": [
    "#price直方图\n",
    "plt.title(\"price hist\")\n",
    "data['price'].hist(alpha=0.5,bins=15)"
   ]
  },
  {
   "cell_type": "code",
   "execution_count": 19,
   "metadata": {},
   "outputs": [
    {
     "data": {
      "text/plain": [
       "<matplotlib.axes._subplots.AxesSubplot at 0x15750502a30>"
      ]
     },
     "execution_count": 19,
     "metadata": {},
     "output_type": "execute_result"
    },
    {
     "data": {
      "image/png": "[encoded data removed]",
      "text/plain": [
       "<Figure size 432x288 with 1 Axes>"
      ]
     },
     "metadata": {
      "needs_background": "light"
     },
     "output_type": "display_data"
    }
   ],
   "source": [
    "#price盒图\n",
    "plt.title(\"price box\")\n",
    "data['price'].plot(kind='box',notch=True,grid=True)"
   ]
  },
  {
   "cell_type": "code",
   "execution_count": 20,
   "metadata": {},
   "outputs": [
    {
     "name": "stderr",
     "output_type": "stream",
     "text": [
      "D:\\anaconda3\\lib\\site-packages\\scipy\\stats\\_distn_infrastructure.py:1932: RuntimeWarning: invalid value encountered in less_equal\n",
      "  cond2 = cond0 & (x <= _a)\n"
     ]
    },
    {
     "data": {
      "text/plain": [
       "((array([-4.43552085, -4.24057241, -4.13467201, ...,  4.13467201,\n",
       "          4.24057241,  4.43552085]),\n",
       "  array([ 4.,  4.,  4., ..., nan, nan, nan])),\n",
       " (nan, nan, nan))"
      ]
     },
     "execution_count": 20,
     "metadata": {},
     "output_type": "execute_result"
    },
    {
     "data": {
      "image/png": "[encoded data removed]",
      "text/plain": [
       "<Figure size 432x288 with 1 Axes>"
      ]
     },
     "metadata": {
      "needs_background": "light"
     },
     "output_type": "display_data"
    }
   ],
   "source": [
    "#priceqq图\n",
    "stats.probplot(data['price'],dist=\"norm\",plot=plt)"
   ]
  },
  {
   "cell_type": "markdown",
   "metadata": {},
   "source": [
    "points分布较为分散，符合正态分布<br>\n",
    "price数据分布比较集中，但存在大量的离群点，"
   ]
  },
  {
   "cell_type": "markdown",
   "metadata": {
    "papermill": {
     "duration": 0.03488,
     "end_time": "2021-03-28T11:35:15.782661",
     "exception": false,
     "start_time": "2021-03-28T11:35:15.747781",
     "status": "completed"
    },
    "tags": []
   },
   "source": [
    "# 2 数据缺失处理"
   ]
  },
  {
   "cell_type": "markdown",
   "metadata": {
    "papermill": {
     "duration": 0.035005,
     "end_time": "2021-03-28T11:35:15.933658",
     "exception": false,
     "start_time": "2021-03-28T11:35:15.898653",
     "status": "completed"
    },
    "tags": []
   },
   "source": [
    "country，designation,province,region_1,region_2，price存在缺失值<br>\n",
    "缺失的原因可能是由于未及时记录，无法追溯<br>\n",
    "这里对price数据进行缺失值处理"
   ]
  },
  {
   "cell_type": "markdown",
   "metadata": {
    "papermill": {
     "duration": 0.036138,
     "end_time": "2021-03-28T11:35:16.004888",
     "exception": false,
     "start_time": "2021-03-28T11:35:15.968750",
     "status": "completed"
    },
    "tags": []
   },
   "source": [
    "## 2.1 缺失值剔除"
   ]
  },
  {
   "cell_type": "markdown",
   "metadata": {},
   "source": [
    "直接把缺失值删除"
   ]
  },
  {
   "cell_type": "code",
   "execution_count": 21,
   "metadata": {
    "execution": {
     "iopub.execute_input": "2021-03-28T11:35:16.221594Z",
     "iopub.status.busy": "2021-03-28T11:35:16.102020Z",
     "iopub.status.idle": "2021-03-28T11:35:16.243423Z",
     "shell.execute_reply": "2021-03-28T11:35:16.242838Z"
    },
    "papermill": {
     "duration": 0.201964,
     "end_time": "2021-03-28T11:35:16.243573",
     "exception": false,
     "start_time": "2021-03-28T11:35:16.041609",
     "status": "completed"
    },
    "tags": []
   },
   "outputs": [],
   "source": [
    "new_price_data1 = data['price'].copy(deep=True)\n",
    "new_price_data1= new_price_data1.dropna()"
   ]
  },
  {
   "cell_type": "code",
   "execution_count": 22,
   "metadata": {},
   "outputs": [
    {
     "data": {
      "text/plain": [
       "0"
      ]
     },
     "execution_count": 22,
     "metadata": {},
     "output_type": "execute_result"
    }
   ],
   "source": [
    "new_price_data1.isnull().sum()"
   ]
  },
  {
   "cell_type": "markdown",
   "metadata": {},
   "source": [
    "### 可视化地对比新旧数据集"
   ]
  },
  {
   "cell_type": "code",
   "execution_count": 23,
   "metadata": {},
   "outputs": [],
   "source": [
    "def drawhist(new_data):\n",
    "    #直方图\n",
    "    plt.figure(figsize = (10,3))\n",
    "\n",
    "    plt.subplot(1,2,1)\n",
    "    plt.title(\"price hist\")\n",
    "    data['price'].hist(alpha=0.5,bins=15)\n",
    "\n",
    "    plt.subplot(1,2,2)\n",
    "    plt.title(\"new price hist\")\n",
    "    new_data.hist(alpha=0.5,bins=15) "
   ]
  },
  {
   "cell_type": "code",
   "execution_count": 24,
   "metadata": {},
   "outputs": [],
   "source": [
    "def drawbox(new_data):\n",
    "    #盒图\n",
    "    plt.figure(figsize = (10,3))\n",
    "\n",
    "    plt.subplot(1,2,1)\n",
    "    plt.title(\"price box\")\n",
    "    data['price'].plot(kind='box',notch=True,grid=True)\n",
    "\n",
    "    plt.subplot(1,2,2)\n",
    "    plt.title(\"new price box\")\n",
    "    new_data.plot(kind='box',notch=True,grid=True)"
   ]
  },
  {
   "cell_type": "code",
   "execution_count": 25,
   "metadata": {},
   "outputs": [],
   "source": [
    "def drawqq(new_data):\n",
    "    #q-q图\n",
    "    plt.figure(figsize = (10,3))\n",
    "\n",
    "    plt.subplot(1,2,1)\n",
    "    stats.probplot(data['price'],dist=\"norm\",plot=plt)\n",
    "\n",
    "    plt.subplot(1,2,2)\n",
    "    stats.probplot(new_data,dist=\"norm\",plot=plt)"
   ]
  },
  {
   "cell_type": "code",
   "execution_count": 26,
   "metadata": {},
   "outputs": [
    {
     "data": {
      "image/png": "[encoded data removed]",
      "text/plain": [
       "<Figure size 720x216 with 2 Axes>"
      ]
     },
     "metadata": {
      "needs_background": "light"
     },
     "output_type": "display_data"
    }
   ],
   "source": [
    "drawhist(new_price_data1)"
   ]
  },
  {
   "cell_type": "code",
   "execution_count": 27,
   "metadata": {},
   "outputs": [
    {
     "data": {
      "image/png": "[encoded data removed]",
      "text/plain": [
       "<Figure size 720x216 with 2 Axes>"
      ]
     },
     "metadata": {
      "needs_background": "light"
     },
     "output_type": "display_data"
    }
   ],
   "source": [
    "drawbox(new_price_data1)"
   ]
  },
  {
   "cell_type": "code",
   "execution_count": 28,
   "metadata": {},
   "outputs": [
    {
     "name": "stderr",
     "output_type": "stream",
     "text": [
      "D:\\anaconda3\\lib\\site-packages\\scipy\\stats\\_distn_infrastructure.py:1932: RuntimeWarning: invalid value encountered in less_equal\n",
      "  cond2 = cond0 & (x <= _a)\n"
     ]
    },
    {
     "data": {
      "image/png": "[encoded data removed]",
      "text/plain": [
       "<Figure size 720x216 with 2 Axes>"
      ]
     },
     "metadata": {
      "needs_background": "light"
     },
     "output_type": "display_data"
    }
   ],
   "source": [
    "drawqq(new_price_data1)"
   ]
  },
  {
   "cell_type": "code",
   "execution_count": 29,
   "metadata": {
    "execution": {
     "iopub.execute_input": "2021-03-28T11:35:17.620771Z",
     "iopub.status.busy": "2021-03-28T11:35:17.620006Z",
     "iopub.status.idle": "2021-03-28T11:35:17.637190Z",
     "shell.execute_reply": "2021-03-28T11:35:17.637671Z"
    },
    "papermill": {
     "duration": 0.058417,
     "end_time": "2021-03-28T11:35:17.637858",
     "exception": false,
     "start_time": "2021-03-28T11:35:17.579441",
     "status": "completed"
    },
    "tags": []
   },
   "outputs": [
    {
     "data": {
      "text/plain": [
       "count    137235.000000\n",
       "mean         33.131482\n",
       "std          36.322536\n",
       "min           4.000000\n",
       "25%          16.000000\n",
       "50%          24.000000\n",
       "75%          40.000000\n",
       "max        2300.000000\n",
       "Name: price, dtype: float64"
      ]
     },
     "execution_count": 29,
     "metadata": {},
     "output_type": "execute_result"
    }
   ],
   "source": [
    "new_price_data1.describe()  #数据统计"
   ]
  },
  {
   "cell_type": "markdown",
   "metadata": {
    "papermill": {
     "duration": 0.038351,
     "end_time": "2021-03-28T11:35:17.714545",
     "exception": false,
     "start_time": "2021-03-28T11:35:17.676194",
     "status": "completed"
    },
    "tags": []
   },
   "source": [
    "## 2.2 用最高频率值来填补缺失值"
   ]
  },
  {
   "cell_type": "markdown",
   "metadata": {},
   "source": [
    "使用最高频率值，即众数来填补缺失值。"
   ]
  },
  {
   "cell_type": "code",
   "execution_count": 30,
   "metadata": {
    "execution": {
     "iopub.execute_input": "2021-03-28T11:35:17.797080Z",
     "iopub.status.busy": "2021-03-28T11:35:17.796401Z",
     "iopub.status.idle": "2021-03-28T11:35:21.439383Z",
     "shell.execute_reply": "2021-03-28T11:35:21.438803Z"
    },
    "papermill": {
     "duration": 3.686529,
     "end_time": "2021-03-28T11:35:21.439523",
     "exception": false,
     "start_time": "2021-03-28T11:35:17.752994",
     "status": "completed"
    },
    "tags": []
   },
   "outputs": [],
   "source": [
    "new_price_data2 = data['price'].copy(deep=True)\n",
    "price_mode = Counter(new_price_data2).most_common(1)[0][0]\n",
    "new_price_data2 = new_price_data2.fillna(price_mode)"
   ]
  },
  {
   "cell_type": "code",
   "execution_count": 31,
   "metadata": {},
   "outputs": [
    {
     "data": {
      "text/plain": [
       "0"
      ]
     },
     "execution_count": 31,
     "metadata": {},
     "output_type": "execute_result"
    }
   ],
   "source": [
    "new_price_data2.isnull().sum()"
   ]
  },
  {
   "cell_type": "markdown",
   "metadata": {},
   "source": [
    "### 可视化对比新旧数据"
   ]
  },
  {
   "cell_type": "code",
   "execution_count": 32,
   "metadata": {},
   "outputs": [
    {
     "data": {
      "image/png": "[encoded data removed]",
      "text/plain": [
       "<Figure size 720x216 with 2 Axes>"
      ]
     },
     "metadata": {
      "needs_background": "light"
     },
     "output_type": "display_data"
    }
   ],
   "source": [
    "drawhist(new_price_data2)"
   ]
  },
  {
   "cell_type": "code",
   "execution_count": 33,
   "metadata": {},
   "outputs": [
    {
     "data": {
      "image/png": "[encoded data removed]",
      "text/plain": [
       "<Figure size 720x216 with 2 Axes>"
      ]
     },
     "metadata": {
      "needs_background": "light"
     },
     "output_type": "display_data"
    }
   ],
   "source": [
    "drawbox(new_price_data2)"
   ]
  },
  {
   "cell_type": "code",
   "execution_count": 34,
   "metadata": {},
   "outputs": [
    {
     "name": "stderr",
     "output_type": "stream",
     "text": [
      "D:\\anaconda3\\lib\\site-packages\\scipy\\stats\\_distn_infrastructure.py:1932: RuntimeWarning: invalid value encountered in less_equal\n",
      "  cond2 = cond0 & (x <= _a)\n"
     ]
    },
    {
     "data": {
      "image/png": "[encoded data removed]",
      "text/plain": [
       "<Figure size 720x216 with 2 Axes>"
      ]
     },
     "metadata": {
      "needs_background": "light"
     },
     "output_type": "display_data"
    }
   ],
   "source": [
    "drawqq(new_price_data2)"
   ]
  },
  {
   "cell_type": "code",
   "execution_count": 35,
   "metadata": {
    "execution": {
     "iopub.execute_input": "2021-03-28T11:35:23.200470Z",
     "iopub.status.busy": "2021-03-28T11:35:23.199782Z",
     "iopub.status.idle": "2021-03-28T11:35:23.215668Z",
     "shell.execute_reply": "2021-03-28T11:35:23.216197Z"
    },
    "papermill": {
     "duration": 0.065691,
     "end_time": "2021-03-28T11:35:23.216377",
     "exception": false,
     "start_time": "2021-03-28T11:35:23.150686",
     "status": "completed"
    },
    "tags": []
   },
   "outputs": [
    {
     "data": {
      "text/plain": [
       "count    150930.000000\n",
       "mean         31.939966\n",
       "std          34.840211\n",
       "min           4.000000\n",
       "25%          16.000000\n",
       "50%          22.000000\n",
       "75%          38.000000\n",
       "max        2300.000000\n",
       "Name: price, dtype: float64"
      ]
     },
     "execution_count": 35,
     "metadata": {},
     "output_type": "execute_result"
    }
   ],
   "source": [
    "new_price_data2.describe()#数据描述"
   ]
  },
  {
   "cell_type": "markdown",
   "metadata": {
    "papermill": {
     "duration": 0.040478,
     "end_time": "2021-03-28T11:35:23.297845",
     "exception": false,
     "start_time": "2021-03-28T11:35:23.257367",
     "status": "completed"
    },
    "tags": []
   },
   "source": [
    "## 2.3 通过属性的相关关系来填补缺失值"
   ]
  },
  {
   "cell_type": "markdown",
   "metadata": {},
   "source": [
    "探寻变量之间的相关关系，找到相关性较高的两个变量后，再寻找他们之间的线性回归关系，最后通过线性回归关系计算缺失值进行填补。"
   ]
  },
  {
   "cell_type": "markdown",
   "metadata": {},
   "source": [
    "查看属性的相关关系"
   ]
  },
  {
   "cell_type": "code",
   "execution_count": 36,
   "metadata": {
    "execution": {
     "iopub.execute_input": "2021-03-28T11:35:23.383178Z",
     "iopub.status.busy": "2021-03-28T11:35:23.382386Z",
     "iopub.status.idle": "2021-03-28T11:35:23.398257Z",
     "shell.execute_reply": "2021-03-28T11:35:23.398831Z"
    },
    "papermill": {
     "duration": 0.060374,
     "end_time": "2021-03-28T11:35:23.399018",
     "exception": false,
     "start_time": "2021-03-28T11:35:23.338644",
     "status": "completed"
    },
    "tags": []
   },
   "outputs": [
    {
     "data": {
      "text/html": [
       "<div>\n",
       "<style scoped>\n",
       "    .dataframe tbody tr th:only-of-type {\n",
       "        vertical-align: middle;\n",
       "    }\n",
       "\n",
       "    .dataframe tbody tr th {\n",
       "        vertical-align: top;\n",
       "    }\n",
       "\n",
       "    .dataframe thead th {\n",
       "        text-align: right;\n",
       "    }\n",
       "</style>\n",
       "<table border=\"1\" class=\"dataframe\">\n",
       "  <thead>\n",
       "    <tr style=\"text-align: right;\">\n",
       "      <th></th>\n",
       "      <th>points</th>\n",
       "      <th>price</th>\n",
       "    </tr>\n",
       "  </thead>\n",
       "  <tbody>\n",
       "    <tr>\n",
       "      <th>points</th>\n",
       "      <td>1.000000</td>\n",
       "      <td>0.459863</td>\n",
       "    </tr>\n",
       "    <tr>\n",
       "      <th>price</th>\n",
       "      <td>0.459863</td>\n",
       "      <td>1.000000</td>\n",
       "    </tr>\n",
       "  </tbody>\n",
       "</table>\n",
       "</div>"
      ],
      "text/plain": [
       "          points     price\n",
       "points  1.000000  0.459863\n",
       "price   0.459863  1.000000"
      ]
     },
     "execution_count": 36,
     "metadata": {},
     "output_type": "execute_result"
    }
   ],
   "source": [
    "data.corr()"
   ]
  },
  {
   "cell_type": "markdown",
   "metadata": {},
   "source": [
    "可见points与price具有相关性，建立线性预测模型来预测缺失值"
   ]
  },
  {
   "cell_type": "code",
   "execution_count": 37,
   "metadata": {},
   "outputs": [],
   "source": [
    "import tqdm"
   ]
  },
  {
   "cell_type": "code",
   "execution_count": 38,
   "metadata": {},
   "outputs": [],
   "source": [
    "from sklearn.linear_model import LinearRegression"
   ]
  },
  {
   "cell_type": "code",
   "execution_count": 39,
   "metadata": {},
   "outputs": [],
   "source": [
    "new_data = data.dropna(subset=['price'])\n",
    "x = new_data['points']\n",
    "y = new_data['price']\n",
    "x = np.array(x).reshape(-1, 1)\n",
    "model = LinearRegression()\n",
    "model.fit(x, y)\n",
    "new_price_data3 = data['price'].copy(deep=True)\n",
    "new_points_data = data['points'].copy(deep=True)\n",
    "i=0\n",
    "for _,value in new_price_data3.iteritems():\n",
    "    if new_price_data3.isnull()[i]==True:\n",
    "        new_price_data3[i] = model.predict(np.array(new_points_data[i]).reshape(-1, 1))\n",
    "    i=i+1"
   ]
  },
  {
   "cell_type": "code",
   "execution_count": 40,
   "metadata": {},
   "outputs": [
    {
     "data": {
      "text/plain": [
       "0"
      ]
     },
     "execution_count": 40,
     "metadata": {},
     "output_type": "execute_result"
    }
   ],
   "source": [
    "new_price_data3.isnull().sum()"
   ]
  },
  {
   "cell_type": "code",
   "execution_count": 41,
   "metadata": {},
   "outputs": [
    {
     "data": {
      "text/plain": [
       "count    150930.000000\n",
       "mean         33.652543\n",
       "std          35.000758\n",
       "min          -7.246443\n",
       "25%          16.000000\n",
       "50%          25.000000\n",
       "75%          40.000000\n",
       "max        2300.000000\n",
       "Name: price, dtype: float64"
      ]
     },
     "execution_count": 41,
     "metadata": {},
     "output_type": "execute_result"
    }
   ],
   "source": [
    "new_price_data3.describe()"
   ]
  },
  {
   "cell_type": "markdown",
   "metadata": {},
   "source": [
    "### 可视化对比新旧数据集"
   ]
  },
  {
   "cell_type": "code",
   "execution_count": 42,
   "metadata": {},
   "outputs": [
    {
     "data": {
      "image/png": "[encoded data removed]",
      "text/plain": [
       "<Figure size 720x216 with 2 Axes>"
      ]
     },
     "metadata": {
      "needs_background": "light"
     },
     "output_type": "display_data"
    }
   ],
   "source": [
    "drawhist(new_price_data3)"
   ]
  },
  {
   "cell_type": "code",
   "execution_count": 43,
   "metadata": {},
   "outputs": [
    {
     "data": {
      "image/png": "[encoded data removed]",
      "text/plain": [
       "<Figure size 720x216 with 2 Axes>"
      ]
     },
     "metadata": {
      "needs_background": "light"
     },
     "output_type": "display_data"
    }
   ],
   "source": [
    "drawbox(new_price_data3)"
   ]
  },
  {
   "cell_type": "code",
   "execution_count": 44,
   "metadata": {},
   "outputs": [
    {
     "name": "stderr",
     "output_type": "stream",
     "text": [
      "D:\\anaconda3\\lib\\site-packages\\scipy\\stats\\_distn_infrastructure.py:1932: RuntimeWarning: invalid value encountered in less_equal\n",
      "  cond2 = cond0 & (x <= _a)\n"
     ]
    },
    {
     "data": {
      "image/png": "[encoded data removed]",
      "text/plain": [
       "<Figure size 720x216 with 2 Axes>"
      ]
     },
     "metadata": {
      "needs_background": "light"
     },
     "output_type": "display_data"
    }
   ],
   "source": [
    "drawqq(new_price_data3)"
   ]
  },
  {
   "cell_type": "markdown",
   "metadata": {
    "papermill": {
     "duration": 0.043072,
     "end_time": "2021-03-28T11:35:25.799828",
     "exception": false,
     "start_time": "2021-03-28T11:35:25.756756",
     "status": "completed"
    },
    "tags": []
   },
   "source": [
    "## 2.4 通过对象的相似性填补缺失值"
   ]
  },
  {
   "cell_type": "markdown",
   "metadata": {},
   "source": [
    "通过数据对象之间的相似性来填补缺失值"
   ]
  },
  {
   "cell_type": "code",
   "execution_count": 45,
   "metadata": {},
   "outputs": [
    {
     "name": "stderr",
     "output_type": "stream",
     "text": [
      "  0%|                                                                                        | 0/13695 [00:00<?, ?it/s]<ipython-input-45-8df4d605d0c3>:7: SettingWithCopyWarning: \n",
      "A value is trying to be set on a copy of a slice from a DataFrame\n",
      "\n",
      "See the caveats in the documentation: https://pandas.pydata.org/pandas-docs/stable/user_guide/indexing.html#returning-a-view-versus-a-copy\n",
      "  new_data4['price'][i] = resemble_data['price'].mean()\n",
      "100%|████████████████████████████████████████████████████████████████████████████| 13695/13695 [03:48<00:00, 59.95it/s]\n"
     ]
    }
   ],
   "source": [
    "other_data = data[data['price'].notna()]\n",
    "new_data4 = data.copy(deep=True)\n",
    "consider_fields = ['variety', 'winery', 'designation', 'region_1', 'province']\n",
    "for i, row in tqdm.tqdm(list(new_data4[data['price'].isna()].iterrows())):\n",
    "    for field in consider_fields:\n",
    "        resemble_data = other_data[other_data[field]==row[field]]\n",
    "        new_data4['price'][i] = resemble_data['price'].mean()\n",
    "        break"
   ]
  },
  {
   "cell_type": "markdown",
   "metadata": {},
   "source": [
    "### 可视化对比新旧数据集"
   ]
  },
  {
   "cell_type": "code",
   "execution_count": 46,
   "metadata": {},
   "outputs": [
    {
     "data": {
      "image/png": "[encoded data removed]",
      "text/plain": [
       "<Figure size 720x216 with 2 Axes>"
      ]
     },
     "metadata": {
      "needs_background": "light"
     },
     "output_type": "display_data"
    }
   ],
   "source": [
    "drawhist(new_data4['price'])"
   ]
  },
  {
   "cell_type": "code",
   "execution_count": 47,
   "metadata": {},
   "outputs": [
    {
     "data": {
      "image/png": "[encoded data removed]",
      "text/plain": [
       "<Figure size 720x216 with 2 Axes>"
      ]
     },
     "metadata": {
      "needs_background": "light"
     },
     "output_type": "display_data"
    }
   ],
   "source": [
    "drawbox(new_data4['price'])"
   ]
  },
  {
   "cell_type": "code",
   "execution_count": 48,
   "metadata": {},
   "outputs": [
    {
     "name": "stderr",
     "output_type": "stream",
     "text": [
      "D:\\anaconda3\\lib\\site-packages\\scipy\\stats\\_distn_infrastructure.py:1932: RuntimeWarning: invalid value encountered in less_equal\n",
      "  cond2 = cond0 & (x <= _a)\n",
      "D:\\anaconda3\\lib\\site-packages\\scipy\\stats\\_distn_infrastructure.py:1932: RuntimeWarning: invalid value encountered in less_equal\n",
      "  cond2 = cond0 & (x <= _a)\n"
     ]
    },
    {
     "data": {
      "image/png": "[encoded data removed]",
      "text/plain": [
       "<Figure size 720x216 with 2 Axes>"
      ]
     },
     "metadata": {
      "needs_background": "light"
     },
     "output_type": "display_data"
    }
   ],
   "source": [
    "drawqq(new_data4['price'])"
   ]
  },
  {
   "cell_type": "code",
   "execution_count": 49,
   "metadata": {
    "execution": {
     "iopub.execute_input": "2021-03-28T11:35:43.155474Z",
     "iopub.status.busy": "2021-03-28T11:35:43.154794Z",
     "iopub.status.idle": "2021-03-28T11:35:43.168120Z",
     "shell.execute_reply": "2021-03-28T11:35:43.167561Z"
    },
    "papermill": {
     "duration": 0.064641,
     "end_time": "2021-03-28T11:35:43.168269",
     "exception": false,
     "start_time": "2021-03-28T11:35:43.103628",
     "status": "completed"
    },
    "tags": []
   },
   "outputs": [
    {
     "data": {
      "text/plain": [
       "count    150909.000000\n",
       "mean         33.543125\n",
       "std          34.950161\n",
       "min           4.000000\n",
       "25%          16.000000\n",
       "50%          25.000000\n",
       "75%          40.000000\n",
       "max        2300.000000\n",
       "Name: price, dtype: float64"
      ]
     },
     "execution_count": 49,
     "metadata": {},
     "output_type": "execute_result"
    }
   ],
   "source": [
    "new_data4['price'].describe()#数据描述"
   ]
  }
 ],
 "metadata": {
  "kernelspec": {
   "display_name": "Python 3",
   "language": "python",
   "name": "python3"
  },
  "language_info": {
   "codemirror_mode": {
    "name": "ipython",
    "version": 3
   },
   "file_extension": ".py",
   "mimetype": "text/x-python",
   "name": "python",
   "nbconvert_exporter": "python",
   "pygments_lexer": "ipython3",
   "version": "3.8.3"
  },
  "papermill": {
   "default_parameters": {},
   "duration": 40.842103,
   "end_time": "2021-03-28T11:35:43.926073",
   "environment_variables": {},
   "exception": null,
   "input_path": "__notebook__.ipynb",
   "output_path": "__notebook__.ipynb",
   "parameters": {},
   "start_time": "2021-03-28T11:35:03.083970",
   "version": "2.2.2"
  }
 },
 "nbformat": 4,
 "nbformat_minor": 4
}
